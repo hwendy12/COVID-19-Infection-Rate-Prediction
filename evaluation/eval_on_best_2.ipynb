{
 "cells": [
  {
   "cell_type": "code",
   "execution_count": 33,
   "metadata": {},
   "outputs": [],
   "source": [
    "# evaluation of the best logistic regression \n",
    "# best recall C =  0.8"
   ]
  },
  {
   "cell_type": "code",
   "execution_count": 34,
   "metadata": {},
   "outputs": [],
   "source": [
    "import pandas as pd\n",
    "# plot the number of unique trees vs sentence length \n",
    "from pandas.api.types import CategoricalDtype\n",
    "from plotnine import *\n",
    "from plotnine.data import mpg\n",
    "%matplotlib inline\n",
    "\n",
    "import math\n",
    "from collections import Counter\n",
    "import numpy as np\n",
    "import pickle\n",
    "from nltk import Tree\n",
    "import numpy as np\n",
    "import matplotlib.pyplot as plt\n",
    "from sklearn.metrics import recall_score\n",
    "from sklearn.preprocessing import Normalizer\n",
    "from sklearn.linear_model import LogisticRegression"
   ]
  },
  {
   "cell_type": "code",
   "execution_count": 35,
   "metadata": {},
   "outputs": [],
   "source": [
    "feature = pd.read_csv('final_data_cleaned.csv')\n",
    "\n",
    "# drop the zero infection rate \n",
    "feature_c = feature[feature['INFECTION RATE'] != 0]\n",
    "feature_p = feature[feature['INFECTION RATE'] == 0]\n",
    "\n",
    "X_p = feature_p.iloc[:,4:].drop('INFECTION RATE',axis=1).to_numpy()\n",
    "X = feature_c.iloc[:,4:].drop('INFECTION RATE',axis=1).to_numpy() # no population \n",
    "y_raw = np.array(feature_c['INFECTION RATE'])\n",
    "\n",
    "mid = np.median(y_raw)\n",
    "y = [1 if y_raw[i] >= mid else 0 for i in range(len(y_raw)) ]"
   ]
  },
  {
   "cell_type": "code",
   "execution_count": 36,
   "metadata": {},
   "outputs": [
    {
     "data": {
      "text/html": [
       "<div>\n",
       "<style scoped>\n",
       "    .dataframe tbody tr th:only-of-type {\n",
       "        vertical-align: middle;\n",
       "    }\n",
       "\n",
       "    .dataframe tbody tr th {\n",
       "        vertical-align: top;\n",
       "    }\n",
       "\n",
       "    .dataframe thead th {\n",
       "        text-align: right;\n",
       "    }\n",
       "</style>\n",
       "<table border=\"1\" class=\"dataframe\">\n",
       "  <thead>\n",
       "    <tr style=\"text-align: right;\">\n",
       "      <th></th>\n",
       "      <th>COUNTY</th>\n",
       "      <th>STATE</th>\n",
       "      <th>pred</th>\n",
       "    </tr>\n",
       "  </thead>\n",
       "  <tbody>\n",
       "    <tr>\n",
       "      <th>141</th>\n",
       "      <td>Floyd County</td>\n",
       "      <td>Kentucky</td>\n",
       "      <td>1</td>\n",
       "    </tr>\n",
       "    <tr>\n",
       "      <th>148</th>\n",
       "      <td>Knox County</td>\n",
       "      <td>Kentucky</td>\n",
       "      <td>1</td>\n",
       "    </tr>\n",
       "    <tr>\n",
       "      <th>158</th>\n",
       "      <td>Rowan County</td>\n",
       "      <td>Kentucky</td>\n",
       "      <td>1</td>\n",
       "    </tr>\n",
       "    <tr>\n",
       "      <th>169</th>\n",
       "      <td>Chippewa County</td>\n",
       "      <td>Michigan</td>\n",
       "      <td>1</td>\n",
       "    </tr>\n",
       "    <tr>\n",
       "      <th>207</th>\n",
       "      <td>Laclede County</td>\n",
       "      <td>Missouri</td>\n",
       "      <td>1</td>\n",
       "    </tr>\n",
       "    <tr>\n",
       "      <th>208</th>\n",
       "      <td>Lawrence County</td>\n",
       "      <td>Missouri</td>\n",
       "      <td>1</td>\n",
       "    </tr>\n",
       "    <tr>\n",
       "      <th>210</th>\n",
       "      <td>Marion County</td>\n",
       "      <td>Missouri</td>\n",
       "      <td>1</td>\n",
       "    </tr>\n",
       "    <tr>\n",
       "      <th>314</th>\n",
       "      <td>Bronx County</td>\n",
       "      <td>New York</td>\n",
       "      <td>1</td>\n",
       "    </tr>\n",
       "    <tr>\n",
       "      <th>315</th>\n",
       "      <td>Kings County</td>\n",
       "      <td>New York</td>\n",
       "      <td>1</td>\n",
       "    </tr>\n",
       "    <tr>\n",
       "      <th>316</th>\n",
       "      <td>Queens County</td>\n",
       "      <td>New York</td>\n",
       "      <td>1</td>\n",
       "    </tr>\n",
       "    <tr>\n",
       "      <th>317</th>\n",
       "      <td>Richmond County</td>\n",
       "      <td>New York</td>\n",
       "      <td>1</td>\n",
       "    </tr>\n",
       "    <tr>\n",
       "      <th>367</th>\n",
       "      <td>Coos County</td>\n",
       "      <td>Oregon</td>\n",
       "      <td>1</td>\n",
       "    </tr>\n",
       "    <tr>\n",
       "      <th>408</th>\n",
       "      <td>Rhea County</td>\n",
       "      <td>Tennessee</td>\n",
       "      <td>1</td>\n",
       "    </tr>\n",
       "    <tr>\n",
       "      <th>492</th>\n",
       "      <td>Sanpete County</td>\n",
       "      <td>Utah</td>\n",
       "      <td>1</td>\n",
       "    </tr>\n",
       "  </tbody>\n",
       "</table>\n",
       "</div>"
      ],
      "text/plain": [
       "              COUNTY      STATE  pred\n",
       "141     Floyd County   Kentucky     1\n",
       "148      Knox County   Kentucky     1\n",
       "158     Rowan County   Kentucky     1\n",
       "169  Chippewa County   Michigan     1\n",
       "207   Laclede County   Missouri     1\n",
       "208  Lawrence County   Missouri     1\n",
       "210    Marion County   Missouri     1\n",
       "314     Bronx County   New York     1\n",
       "315     Kings County   New York     1\n",
       "316    Queens County   New York     1\n",
       "317  Richmond County   New York     1\n",
       "367      Coos County     Oregon     1\n",
       "408      Rhea County  Tennessee     1\n",
       "492   Sanpete County       Utah     1"
      ]
     },
     "execution_count": 36,
     "metadata": {},
     "output_type": "execute_result"
    }
   ],
   "source": [
    "# train on all the data obtained on 04/12/2020\n",
    "# predict and evaluate on the up-to-data data 05/17/2020\n",
    "transformer = Normalizer(norm = 'l1').fit(X) # norm = ‘l1’, ‘l2’,'max'\n",
    "X_norm = transformer.transform(X) \n",
    "X_p_norm = transformer.transform(X_p)\n",
    "\n",
    "\n",
    "clf = LogisticRegression(random_state=0,solver ='liblinear',max_iter=100, C = 0.8)# solver = 'sag', 'saga' or 'liblinear'\n",
    "clf.fit(X_norm, y)\n",
    "y_pred = clf.predict(X_p_norm)\n",
    "\n",
    "pred = pd.DataFrame(list(feature_p['COUNTY']),columns = [\"COUNTY\"])\n",
    "pred['STATE'] = list(feature_p['STATE'])\n",
    "pred['pred'] = y_pred\n",
    "pred[pred['pred']==1]"
   ]
  },
  {
   "cell_type": "code",
   "execution_count": 37,
   "metadata": {},
   "outputs": [],
   "source": [
    "# evaluate on the on up-to-date data \n",
    "# load data \n",
    "update = pd.read_csv('final_data_update.csv')\n",
    "svm_result = pd.read_csv('219.csv')\n",
    "ls_result = pred[pred['pred']==1]"
   ]
  },
  {
   "cell_type": "code",
   "execution_count": 38,
   "metadata": {},
   "outputs": [
    {
     "name": "stdout",
     "output_type": "stream",
     "text": [
      "0.0009560800717060054\n"
     ]
    }
   ],
   "source": [
    "update_rate = update['5/17/20'] / update['POPULATION']\n",
    "update['infection_rate'] = update_rate\n",
    "mid = np.median(update_rate)\n",
    "print(mid) "
   ]
  },
  {
   "cell_type": "code",
   "execution_count": 39,
   "metadata": {},
   "outputs": [
    {
     "name": "stdout",
     "output_type": "stream",
     "text": [
      "(1937, 107)\n",
      "(529, 107)\n"
     ]
    }
   ],
   "source": [
    "# get missing data \n",
    "middle_data = pd.merge(feature_p,update, on='COUNTY', how='inner')\n",
    "print(middle_data.shape)\n",
    "missing_data = middle_data[middle_data['STATE_x'] == middle_data['STATE_y']]\n",
    "print(missing_data.shape)"
   ]
  },
  {
   "cell_type": "code",
   "execution_count": 40,
   "metadata": {},
   "outputs": [
    {
     "data": {
      "text/plain": [
       "(67, 107)"
      ]
     },
     "execution_count": 40,
     "metadata": {},
     "output_type": "execute_result"
    }
   ],
   "source": [
    "high_risk_reg = missing_data[missing_data['infection_rate']>=mid]\n",
    "high_risk_reg.shape"
   ]
  },
  {
   "cell_type": "code",
   "execution_count": 41,
   "metadata": {},
   "outputs": [
    {
     "name": "stdout",
     "output_type": "stream",
     "text": [
      "(28, 109)\n",
      "(28, 109)\n"
     ]
    }
   ],
   "source": [
    "# get recall + 4 new york counties\n",
    "middle_data = pd.merge(svm_result,high_risk_reg, on='COUNTY', how='inner')\n",
    "print(middle_data.shape)\n",
    "final_merge = middle_data[middle_data['STATE_x'] == middle_data['STATE_y']]\n",
    "print(final_merge.shape)"
   ]
  },
  {
   "cell_type": "code",
   "execution_count": 42,
   "metadata": {},
   "outputs": [
    {
     "name": "stdout",
     "output_type": "stream",
     "text": [
      "(2, 109)\n",
      "(2, 109)\n"
     ]
    }
   ],
   "source": [
    "# get recall + 4 new york counties\n",
    "middle_data = pd.merge(ls_result,high_risk_reg, on='COUNTY', how='inner')\n",
    "print(middle_data.shape)\n",
    "final_merge = middle_data[middle_data['STATE_x'] == middle_data['STATE_y']]\n",
    "print(final_merge.shape)"
   ]
  }
 ],
 "metadata": {
  "kernelspec": {
   "display_name": "Python 3",
   "language": "python",
   "name": "python3"
  },
  "language_info": {
   "codemirror_mode": {
    "name": "ipython",
    "version": 3
   },
   "file_extension": ".py",
   "mimetype": "text/x-python",
   "name": "python",
   "nbconvert_exporter": "python",
   "pygments_lexer": "ipython3",
   "version": "3.7.3"
  }
 },
 "nbformat": 4,
 "nbformat_minor": 4
}
