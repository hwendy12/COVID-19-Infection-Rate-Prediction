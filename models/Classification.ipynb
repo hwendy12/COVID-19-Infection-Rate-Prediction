{
  "nbformat": 4,
  "nbformat_minor": 0,
  "metadata": {
    "colab": {
      "name": "Classification.ipynb",
      "provenance": []
    },
    "kernelspec": {
      "name": "python3",
      "display_name": "Python 3"
    }
  },
  "cells": [
    {
      "cell_type": "code",
      "metadata": {
        "id": "_yzfCYikI6Lx",
        "colab_type": "code",
        "outputId": "2bb5def0-650a-4974-f9fc-f02057f2716d",
        "colab": {
          "base_uri": "https://localhost:8080/",
          "height": 122
        }
      },
      "source": [
        "from google.colab import drive\n",
        "drive.mount('/content/drive', force_remount=True)"
      ],
      "execution_count": 1,
      "outputs": [
        {
          "output_type": "stream",
          "text": [
            "Go to this URL in a browser: https://accounts.google.com/o/oauth2/auth?client_id=947318989803-6bn6qk8qdgf4n4g3pfee6491hc0brc4i.apps.googleusercontent.com&redirect_uri=urn%3aietf%3awg%3aoauth%3a2.0%3aoob&response_type=code&scope=email%20https%3a%2f%2fwww.googleapis.com%2fauth%2fdocs.test%20https%3a%2f%2fwww.googleapis.com%2fauth%2fdrive%20https%3a%2f%2fwww.googleapis.com%2fauth%2fdrive.photos.readonly%20https%3a%2f%2fwww.googleapis.com%2fauth%2fpeopleapi.readonly\n",
            "\n",
            "Enter your authorization code:\n",
            "··········\n",
            "Mounted at /content/drive\n"
          ],
          "name": "stdout"
        }
      ]
    },
    {
      "cell_type": "code",
      "metadata": {
        "id": "cnEV6mVWJAS3",
        "colab_type": "code",
        "outputId": "6bc88f81-f955-425b-c210-34d26c6f07ca",
        "colab": {
          "base_uri": "https://localhost:8080/",
          "height": 34
        }
      },
      "source": [
        "import os\n",
        "from google.colab import drive\n",
        "drive.mount('/content/drive')\n",
        "\n",
        "root_dir = \"/content/drive/My Drive/ML/PROJECT/\"\n",
        "\n",
        "os.chdir(root_dir)\n",
        "#os.listdir(root_dir)"
      ],
      "execution_count": 2,
      "outputs": [
        {
          "output_type": "stream",
          "text": [
            "Drive already mounted at /content/drive; to attempt to forcibly remount, call drive.mount(\"/content/drive\", force_remount=True).\n"
          ],
          "name": "stdout"
        }
      ]
    },
    {
      "cell_type": "code",
      "metadata": {
        "id": "R9gM2lv4JIp-",
        "colab_type": "code",
        "colab": {}
      },
      "source": [
        "import numpy as np\n",
        "import pandas as pd\n",
        "from numpy import *\n",
        "\n",
        "import torch\n",
        "import torch.nn as nn\n",
        "import torch.nn.functional as F\n",
        "import torchvision.models as models\n",
        "from torchvision import transforms\n",
        "from torch.utils.data import Dataset, DataLoader\n",
        "import torch.optim as optim\n",
        "\n",
        "from skimage import io, color\n",
        "from sklearn import metrics\n",
        "from sklearn.metrics import roc_curve, auc\n",
        "\n",
        "import time\n",
        "import os\n",
        "import pickle\n",
        "\n",
        "import matplotlib.pyplot as plt\n",
        "\n",
        "from sklearn.model_selection import ShuffleSplit\n",
        "from sklearn.model_selection import train_test_split\n",
        "#import scikitplot as skplt"
      ],
      "execution_count": 0,
      "outputs": []
    },
    {
      "cell_type": "markdown",
      "metadata": {
        "id": "DFkeVZDhJNFy",
        "colab_type": "text"
      },
      "source": [
        "# 1.Load Data"
      ]
    },
    {
      "cell_type": "code",
      "metadata": {
        "id": "qSlZJNp3JySm",
        "colab_type": "code",
        "outputId": "357023b1-9382-4447-8e6a-957af5670769",
        "colab": {
          "base_uri": "https://localhost:8080/",
          "height": 491
        }
      },
      "source": [
        "df = pd.read_csv('final_data_cleaned.csv')\n",
        "print(df.shape)\n",
        "df.head()"
      ],
      "execution_count": 4,
      "outputs": [
        {
          "output_type": "stream",
          "text": [
            "(3147, 102)\n"
          ],
          "name": "stdout"
        },
        {
          "output_type": "execute_result",
          "data": {
            "text/html": [
              "<div>\n",
              "<style scoped>\n",
              "    .dataframe tbody tr th:only-of-type {\n",
              "        vertical-align: middle;\n",
              "    }\n",
              "\n",
              "    .dataframe tbody tr th {\n",
              "        vertical-align: top;\n",
              "    }\n",
              "\n",
              "    .dataframe thead th {\n",
              "        text-align: right;\n",
              "    }\n",
              "</style>\n",
              "<table border=\"1\" class=\"dataframe\">\n",
              "  <thead>\n",
              "    <tr style=\"text-align: right;\">\n",
              "      <th></th>\n",
              "      <th>GEO_ID</th>\n",
              "      <th>COUNTY</th>\n",
              "      <th>STATE</th>\n",
              "      <th>POPULATION</th>\n",
              "      <th>AGE15_19</th>\n",
              "      <th>AGE20_24</th>\n",
              "      <th>AGE25_29</th>\n",
              "      <th>AGE30_34</th>\n",
              "      <th>AGE55_59</th>\n",
              "      <th>AGE60_64</th>\n",
              "      <th>TOTAL_MALE</th>\n",
              "      <th>TOTAL_FEMALE</th>\n",
              "      <th>PERCENT_FEMALE</th>\n",
              "      <th>PERCENT_MALE</th>\n",
              "      <th>AGEUNDER15</th>\n",
              "      <th>AGE35_44</th>\n",
              "      <th>AGE45_54</th>\n",
              "      <th>AGE65_74</th>\n",
              "      <th>AGE_75OVER</th>\n",
              "      <th>PERCENT_TOTALPOP</th>\n",
              "      <th>INCOME_PERCAPITA</th>\n",
              "      <th>WORKERS 16 YEARS AND OVER</th>\n",
              "      <th>CAR, TRUCK, OR VAN</th>\n",
              "      <th>WORKERS PER CAR, TRUCK, OR VAN</th>\n",
              "      <th>PUBLIC TRANSPORTATION (EXCLUDING TAXICAB)</th>\n",
              "      <th>WALKED</th>\n",
              "      <th>BICYCLE</th>\n",
              "      <th>TAXICAB, MOTORCYCLE, OR OTHER MEANS</th>\n",
              "      <th>WORKED AT HOME</th>\n",
              "      <th>WORKED OUTSIDE COUNTY OF RESIDENCE</th>\n",
              "      <th>WORKED OUTSIDE STATE OF RESIDENCE</th>\n",
              "      <th>WORKERS 16 YEARS AND OVER WHO DID NOT WORK AT HOME</th>\n",
              "      <th>LESS THAN 10 MINUTES</th>\n",
              "      <th>10 TO 14 MINUTES</th>\n",
              "      <th>15 TO 19 MINUTES</th>\n",
              "      <th>20 TO 24 MINUTES</th>\n",
              "      <th>25 TO 29 MINUTES</th>\n",
              "      <th>30 TO 34 MINUTES</th>\n",
              "      <th>35 TO 44 MINUTES</th>\n",
              "      <th>45 TO 59 MINUTES</th>\n",
              "      <th>...</th>\n",
              "      <th>LAB_16-19</th>\n",
              "      <th>LAB_20-24</th>\n",
              "      <th>LAB_25-29</th>\n",
              "      <th>LAB_30-34</th>\n",
              "      <th>LAB_35-44</th>\n",
              "      <th>LAB_45-54</th>\n",
              "      <th>LAB_55-59</th>\n",
              "      <th>LAB_60-64</th>\n",
              "      <th>LAB_65-74</th>\n",
              "      <th>LAB_OVER75</th>\n",
              "      <th>EMPLOYMENT/POPULATION_RATIO</th>\n",
              "      <th>EMP_16-19</th>\n",
              "      <th>EMP_20-24</th>\n",
              "      <th>EMP_25-29</th>\n",
              "      <th>EMP_30-34</th>\n",
              "      <th>EMP_35-44</th>\n",
              "      <th>EMP_45-54</th>\n",
              "      <th>EMP_55-59</th>\n",
              "      <th>EMP_60-64</th>\n",
              "      <th>EMP_65-74</th>\n",
              "      <th>EMP_OVER75</th>\n",
              "      <th>UNEMPLOYMENT_RATE</th>\n",
              "      <th>UNEMP_16-19</th>\n",
              "      <th>UNEMP_20-24</th>\n",
              "      <th>UNEMP_25-29</th>\n",
              "      <th>UNEMP_30-34</th>\n",
              "      <th>UNEMP_35-44</th>\n",
              "      <th>UNEMP_45-54</th>\n",
              "      <th>UNEMP_55-59</th>\n",
              "      <th>UNEMP_60-64</th>\n",
              "      <th>UNEMP_65-74</th>\n",
              "      <th>UNEMP_OVER75</th>\n",
              "      <th>PERCENT WITH PRIVATE HEALTH INSURANCE</th>\n",
              "      <th>PERCENT NO PRIVATE HEALTH INSURANCE</th>\n",
              "      <th>PERCENT WITH PUBLIC HEALTH INSURANCE</th>\n",
              "      <th>PERCENT NO PUBLIC HEALTH INSURANCE</th>\n",
              "      <th>PERCENT MISSING HEALTH</th>\n",
              "      <th>LAND AREA(SQMI)</th>\n",
              "      <th>INFECTION RATE</th>\n",
              "      <th>POP DENSITY</th>\n",
              "    </tr>\n",
              "  </thead>\n",
              "  <tbody>\n",
              "    <tr>\n",
              "      <th>0</th>\n",
              "      <td>0500000US01001</td>\n",
              "      <td>Autauga County</td>\n",
              "      <td>Alabama</td>\n",
              "      <td>55200.0</td>\n",
              "      <td>7.0</td>\n",
              "      <td>6.0</td>\n",
              "      <td>6.6</td>\n",
              "      <td>6.2</td>\n",
              "      <td>7.5</td>\n",
              "      <td>4.9</td>\n",
              "      <td>26874.0</td>\n",
              "      <td>28326.0</td>\n",
              "      <td>51.315217</td>\n",
              "      <td>48.684783</td>\n",
              "      <td>19.7</td>\n",
              "      <td>13.3</td>\n",
              "      <td>14.2</td>\n",
              "      <td>8.5</td>\n",
              "      <td>6.1</td>\n",
              "      <td>0.017095</td>\n",
              "      <td>29372.0</td>\n",
              "      <td>24428.0</td>\n",
              "      <td>95.2</td>\n",
              "      <td>1.05</td>\n",
              "      <td>0.1</td>\n",
              "      <td>0.6</td>\n",
              "      <td>0.1</td>\n",
              "      <td>1.3</td>\n",
              "      <td>2.8</td>\n",
              "      <td>64.5</td>\n",
              "      <td>0.6</td>\n",
              "      <td>23753.0</td>\n",
              "      <td>12.8</td>\n",
              "      <td>10.5</td>\n",
              "      <td>14.2</td>\n",
              "      <td>13.8</td>\n",
              "      <td>9.5</td>\n",
              "      <td>20.0</td>\n",
              "      <td>7.4</td>\n",
              "      <td>6.0</td>\n",
              "      <td>...</td>\n",
              "      <td>31.9</td>\n",
              "      <td>70.8</td>\n",
              "      <td>83.0</td>\n",
              "      <td>81.9</td>\n",
              "      <td>78.9</td>\n",
              "      <td>74.9</td>\n",
              "      <td>66.2</td>\n",
              "      <td>52.1</td>\n",
              "      <td>15.1</td>\n",
              "      <td>2.5</td>\n",
              "      <td>55.6</td>\n",
              "      <td>27.4</td>\n",
              "      <td>61.7</td>\n",
              "      <td>77.0</td>\n",
              "      <td>76.2</td>\n",
              "      <td>72.1</td>\n",
              "      <td>72.7</td>\n",
              "      <td>65.3</td>\n",
              "      <td>50.4</td>\n",
              "      <td>14.8</td>\n",
              "      <td>2.5</td>\n",
              "      <td>4.2</td>\n",
              "      <td>14.2</td>\n",
              "      <td>12.7</td>\n",
              "      <td>3.6</td>\n",
              "      <td>3.7</td>\n",
              "      <td>3.6</td>\n",
              "      <td>2.4</td>\n",
              "      <td>1.4</td>\n",
              "      <td>3.2</td>\n",
              "      <td>1.5</td>\n",
              "      <td>0.0</td>\n",
              "      <td>64.150362</td>\n",
              "      <td>34.150362</td>\n",
              "      <td>37.731884</td>\n",
              "      <td>60.568841</td>\n",
              "      <td>26.865672</td>\n",
              "      <td>598.73</td>\n",
              "      <td>0.034420</td>\n",
              "      <td>92.195146</td>\n",
              "    </tr>\n",
              "    <tr>\n",
              "      <th>1</th>\n",
              "      <td>0500000US01003</td>\n",
              "      <td>Baldwin County</td>\n",
              "      <td>Alabama</td>\n",
              "      <td>208107.0</td>\n",
              "      <td>6.1</td>\n",
              "      <td>5.2</td>\n",
              "      <td>5.7</td>\n",
              "      <td>5.5</td>\n",
              "      <td>6.9</td>\n",
              "      <td>7.1</td>\n",
              "      <td>101188.0</td>\n",
              "      <td>106919.0</td>\n",
              "      <td>51.376936</td>\n",
              "      <td>48.623064</td>\n",
              "      <td>18.2</td>\n",
              "      <td>12.2</td>\n",
              "      <td>13.6</td>\n",
              "      <td>11.8</td>\n",
              "      <td>7.7</td>\n",
              "      <td>0.064449</td>\n",
              "      <td>31203.0</td>\n",
              "      <td>91420.0</td>\n",
              "      <td>91.7</td>\n",
              "      <td>1.05</td>\n",
              "      <td>0.1</td>\n",
              "      <td>0.7</td>\n",
              "      <td>0.1</td>\n",
              "      <td>1.3</td>\n",
              "      <td>6.1</td>\n",
              "      <td>20.6</td>\n",
              "      <td>6.0</td>\n",
              "      <td>85813.0</td>\n",
              "      <td>10.6</td>\n",
              "      <td>13.2</td>\n",
              "      <td>14.1</td>\n",
              "      <td>13.4</td>\n",
              "      <td>6.6</td>\n",
              "      <td>17.3</td>\n",
              "      <td>7.0</td>\n",
              "      <td>9.9</td>\n",
              "      <td>...</td>\n",
              "      <td>39.1</td>\n",
              "      <td>77.1</td>\n",
              "      <td>81.3</td>\n",
              "      <td>78.8</td>\n",
              "      <td>81.3</td>\n",
              "      <td>80.5</td>\n",
              "      <td>69.3</td>\n",
              "      <td>48.8</td>\n",
              "      <td>22.6</td>\n",
              "      <td>5.6</td>\n",
              "      <td>55.7</td>\n",
              "      <td>33.8</td>\n",
              "      <td>69.6</td>\n",
              "      <td>73.5</td>\n",
              "      <td>76.7</td>\n",
              "      <td>78.8</td>\n",
              "      <td>76.9</td>\n",
              "      <td>68.3</td>\n",
              "      <td>47.8</td>\n",
              "      <td>21.9</td>\n",
              "      <td>5.4</td>\n",
              "      <td>4.4</td>\n",
              "      <td>13.5</td>\n",
              "      <td>9.7</td>\n",
              "      <td>8.6</td>\n",
              "      <td>2.2</td>\n",
              "      <td>2.4</td>\n",
              "      <td>4.4</td>\n",
              "      <td>1.4</td>\n",
              "      <td>2.0</td>\n",
              "      <td>3.2</td>\n",
              "      <td>2.6</td>\n",
              "      <td>72.480022</td>\n",
              "      <td>28.537243</td>\n",
              "      <td>35.510098</td>\n",
              "      <td>65.507167</td>\n",
              "      <td>26.865672</td>\n",
              "      <td>1737.68</td>\n",
              "      <td>0.031714</td>\n",
              "      <td>119.761406</td>\n",
              "    </tr>\n",
              "    <tr>\n",
              "      <th>2</th>\n",
              "      <td>0500000US01005</td>\n",
              "      <td>Barbour County</td>\n",
              "      <td>Alabama</td>\n",
              "      <td>25782.0</td>\n",
              "      <td>5.6</td>\n",
              "      <td>6.4</td>\n",
              "      <td>7.2</td>\n",
              "      <td>7.0</td>\n",
              "      <td>6.4</td>\n",
              "      <td>6.4</td>\n",
              "      <td>13697.0</td>\n",
              "      <td>12085.0</td>\n",
              "      <td>46.873788</td>\n",
              "      <td>53.126212</td>\n",
              "      <td>17.6</td>\n",
              "      <td>12.0</td>\n",
              "      <td>13.4</td>\n",
              "      <td>11.0</td>\n",
              "      <td>7.0</td>\n",
              "      <td>0.007984</td>\n",
              "      <td>18461.0</td>\n",
              "      <td>8538.0</td>\n",
              "      <td>94.2</td>\n",
              "      <td>1.07</td>\n",
              "      <td>0.3</td>\n",
              "      <td>2.1</td>\n",
              "      <td>0.0</td>\n",
              "      <td>2.1</td>\n",
              "      <td>1.3</td>\n",
              "      <td>20.9</td>\n",
              "      <td>4.7</td>\n",
              "      <td>8427.0</td>\n",
              "      <td>25.4</td>\n",
              "      <td>16.0</td>\n",
              "      <td>12.6</td>\n",
              "      <td>10.9</td>\n",
              "      <td>4.7</td>\n",
              "      <td>10.8</td>\n",
              "      <td>3.4</td>\n",
              "      <td>8.1</td>\n",
              "      <td>...</td>\n",
              "      <td>22.4</td>\n",
              "      <td>57.2</td>\n",
              "      <td>72.0</td>\n",
              "      <td>48.3</td>\n",
              "      <td>54.4</td>\n",
              "      <td>59.7</td>\n",
              "      <td>51.7</td>\n",
              "      <td>44.6</td>\n",
              "      <td>27.1</td>\n",
              "      <td>6.6</td>\n",
              "      <td>41.6</td>\n",
              "      <td>16.3</td>\n",
              "      <td>50.4</td>\n",
              "      <td>57.4</td>\n",
              "      <td>41.5</td>\n",
              "      <td>49.3</td>\n",
              "      <td>56.4</td>\n",
              "      <td>49.9</td>\n",
              "      <td>44.1</td>\n",
              "      <td>26.2</td>\n",
              "      <td>6.0</td>\n",
              "      <td>9.5</td>\n",
              "      <td>27.2</td>\n",
              "      <td>11.9</td>\n",
              "      <td>20.3</td>\n",
              "      <td>14.1</td>\n",
              "      <td>9.4</td>\n",
              "      <td>5.4</td>\n",
              "      <td>3.4</td>\n",
              "      <td>1.2</td>\n",
              "      <td>3.0</td>\n",
              "      <td>9.2</td>\n",
              "      <td>40.745481</td>\n",
              "      <td>45.857575</td>\n",
              "      <td>49.169964</td>\n",
              "      <td>37.433093</td>\n",
              "      <td>26.865672</td>\n",
              "      <td>891.30</td>\n",
              "      <td>0.034908</td>\n",
              "      <td>28.926287</td>\n",
              "    </tr>\n",
              "    <tr>\n",
              "      <th>3</th>\n",
              "      <td>0500000US01007</td>\n",
              "      <td>Bibb County</td>\n",
              "      <td>Alabama</td>\n",
              "      <td>22527.0</td>\n",
              "      <td>6.7</td>\n",
              "      <td>6.6</td>\n",
              "      <td>6.9</td>\n",
              "      <td>6.7</td>\n",
              "      <td>6.6</td>\n",
              "      <td>5.4</td>\n",
              "      <td>12152.0</td>\n",
              "      <td>10375.0</td>\n",
              "      <td>46.055844</td>\n",
              "      <td>53.944156</td>\n",
              "      <td>16.7</td>\n",
              "      <td>12.9</td>\n",
              "      <td>15.2</td>\n",
              "      <td>9.4</td>\n",
              "      <td>6.9</td>\n",
              "      <td>0.006976</td>\n",
              "      <td>20199.0</td>\n",
              "      <td>7946.0</td>\n",
              "      <td>95.5</td>\n",
              "      <td>1.06</td>\n",
              "      <td>0.5</td>\n",
              "      <td>0.6</td>\n",
              "      <td>0.0</td>\n",
              "      <td>0.9</td>\n",
              "      <td>2.6</td>\n",
              "      <td>64.3</td>\n",
              "      <td>0.5</td>\n",
              "      <td>7738.0</td>\n",
              "      <td>10.4</td>\n",
              "      <td>14.1</td>\n",
              "      <td>10.3</td>\n",
              "      <td>8.5</td>\n",
              "      <td>5.0</td>\n",
              "      <td>12.1</td>\n",
              "      <td>14.5</td>\n",
              "      <td>16.2</td>\n",
              "      <td>...</td>\n",
              "      <td>16.9</td>\n",
              "      <td>58.4</td>\n",
              "      <td>56.6</td>\n",
              "      <td>58.1</td>\n",
              "      <td>64.5</td>\n",
              "      <td>61.1</td>\n",
              "      <td>56.2</td>\n",
              "      <td>52.1</td>\n",
              "      <td>18.0</td>\n",
              "      <td>6.5</td>\n",
              "      <td>43.8</td>\n",
              "      <td>11.8</td>\n",
              "      <td>47.2</td>\n",
              "      <td>51.6</td>\n",
              "      <td>48.4</td>\n",
              "      <td>61.3</td>\n",
              "      <td>58.8</td>\n",
              "      <td>55.8</td>\n",
              "      <td>51.1</td>\n",
              "      <td>17.2</td>\n",
              "      <td>6.5</td>\n",
              "      <td>7.5</td>\n",
              "      <td>30.0</td>\n",
              "      <td>19.1</td>\n",
              "      <td>8.8</td>\n",
              "      <td>16.8</td>\n",
              "      <td>5.0</td>\n",
              "      <td>3.7</td>\n",
              "      <td>0.6</td>\n",
              "      <td>1.9</td>\n",
              "      <td>4.5</td>\n",
              "      <td>0.0</td>\n",
              "      <td>55.440139</td>\n",
              "      <td>35.495184</td>\n",
              "      <td>39.836640</td>\n",
              "      <td>51.098682</td>\n",
              "      <td>26.865672</td>\n",
              "      <td>624.10</td>\n",
              "      <td>0.057709</td>\n",
              "      <td>36.095177</td>\n",
              "    </tr>\n",
              "    <tr>\n",
              "      <th>4</th>\n",
              "      <td>0500000US01009</td>\n",
              "      <td>Blount County</td>\n",
              "      <td>Alabama</td>\n",
              "      <td>57645.0</td>\n",
              "      <td>6.4</td>\n",
              "      <td>5.5</td>\n",
              "      <td>5.9</td>\n",
              "      <td>5.9</td>\n",
              "      <td>6.8</td>\n",
              "      <td>6.3</td>\n",
              "      <td>28434.0</td>\n",
              "      <td>29211.0</td>\n",
              "      <td>50.673953</td>\n",
              "      <td>49.326047</td>\n",
              "      <td>19.2</td>\n",
              "      <td>12.4</td>\n",
              "      <td>13.8</td>\n",
              "      <td>10.7</td>\n",
              "      <td>7.1</td>\n",
              "      <td>0.017852</td>\n",
              "      <td>22656.0</td>\n",
              "      <td>21148.0</td>\n",
              "      <td>96.6</td>\n",
              "      <td>1.06</td>\n",
              "      <td>0.1</td>\n",
              "      <td>0.2</td>\n",
              "      <td>0.0</td>\n",
              "      <td>0.8</td>\n",
              "      <td>2.3</td>\n",
              "      <td>67.0</td>\n",
              "      <td>0.6</td>\n",
              "      <td>20671.0</td>\n",
              "      <td>11.9</td>\n",
              "      <td>7.7</td>\n",
              "      <td>6.7</td>\n",
              "      <td>8.7</td>\n",
              "      <td>4.5</td>\n",
              "      <td>12.5</td>\n",
              "      <td>8.6</td>\n",
              "      <td>21.4</td>\n",
              "      <td>...</td>\n",
              "      <td>18.5</td>\n",
              "      <td>58.7</td>\n",
              "      <td>81.2</td>\n",
              "      <td>59.0</td>\n",
              "      <td>71.9</td>\n",
              "      <td>63.9</td>\n",
              "      <td>63.0</td>\n",
              "      <td>39.3</td>\n",
              "      <td>14.9</td>\n",
              "      <td>2.3</td>\n",
              "      <td>46.5</td>\n",
              "      <td>14.5</td>\n",
              "      <td>53.7</td>\n",
              "      <td>78.4</td>\n",
              "      <td>57.6</td>\n",
              "      <td>68.6</td>\n",
              "      <td>61.9</td>\n",
              "      <td>61.0</td>\n",
              "      <td>38.1</td>\n",
              "      <td>14.5</td>\n",
              "      <td>2.3</td>\n",
              "      <td>4.1</td>\n",
              "      <td>21.5</td>\n",
              "      <td>8.6</td>\n",
              "      <td>2.9</td>\n",
              "      <td>2.3</td>\n",
              "      <td>4.2</td>\n",
              "      <td>3.1</td>\n",
              "      <td>2.5</td>\n",
              "      <td>3.0</td>\n",
              "      <td>2.4</td>\n",
              "      <td>0.0</td>\n",
              "      <td>66.657993</td>\n",
              "      <td>33.015873</td>\n",
              "      <td>36.308440</td>\n",
              "      <td>63.365426</td>\n",
              "      <td>26.865672</td>\n",
              "      <td>646.77</td>\n",
              "      <td>0.020817</td>\n",
              "      <td>89.127511</td>\n",
              "    </tr>\n",
              "  </tbody>\n",
              "</table>\n",
              "<p>5 rows × 102 columns</p>\n",
              "</div>"
            ],
            "text/plain": [
              "           GEO_ID          COUNTY  ... INFECTION RATE  POP DENSITY\n",
              "0  0500000US01001  Autauga County  ...       0.034420    92.195146\n",
              "1  0500000US01003  Baldwin County  ...       0.031714   119.761406\n",
              "2  0500000US01005  Barbour County  ...       0.034908    28.926287\n",
              "3  0500000US01007     Bibb County  ...       0.057709    36.095177\n",
              "4  0500000US01009   Blount County  ...       0.020817    89.127511\n",
              "\n",
              "[5 rows x 102 columns]"
            ]
          },
          "metadata": {
            "tags": []
          },
          "execution_count": 4
        }
      ]
    },
    {
      "cell_type": "code",
      "metadata": {
        "id": "nJuOfYqQ-RU7",
        "colab_type": "code",
        "colab": {
          "base_uri": "https://localhost:8080/",
          "height": 34
        },
        "outputId": "5cc33499-a407-4e21-e42e-ae39d9e534ec"
      },
      "source": [
        "missing = df[df['INFECTION RATE']==0]\n",
        "missing.shape"
      ],
      "execution_count": 5,
      "outputs": [
        {
          "output_type": "execute_result",
          "data": {
            "text/plain": [
              "(529, 102)"
            ]
          },
          "metadata": {
            "tags": []
          },
          "execution_count": 5
        }
      ]
    },
    {
      "cell_type": "code",
      "metadata": {
        "id": "7_Hr4Xc8KQJE",
        "colab_type": "code",
        "outputId": "65e513b2-74f5-4952-95e3-1f66beaa8564",
        "colab": {
          "base_uri": "https://localhost:8080/",
          "height": 34
        }
      },
      "source": [
        "df = df[df['INFECTION RATE']>0]\n",
        "df.shape"
      ],
      "execution_count": 6,
      "outputs": [
        {
          "output_type": "execute_result",
          "data": {
            "text/plain": [
              "(2618, 102)"
            ]
          },
          "metadata": {
            "tags": []
          },
          "execution_count": 6
        }
      ]
    },
    {
      "cell_type": "code",
      "metadata": {
        "id": "3iCWBNIKMxPX",
        "colab_type": "code",
        "colab": {}
      },
      "source": [
        "median = df['INFECTION RATE'].median()"
      ],
      "execution_count": 0,
      "outputs": []
    },
    {
      "cell_type": "code",
      "metadata": {
        "id": "YqmZ2IfGLzyh",
        "colab_type": "code",
        "colab": {}
      },
      "source": [
        "def label_risk(num):\n",
        "     if num<median:\n",
        "          return 0\n",
        "     else:\n",
        "          return 1"
      ],
      "execution_count": 0,
      "outputs": []
    },
    {
      "cell_type": "code",
      "metadata": {
        "id": "8JRnlIqHNULb",
        "colab_type": "code",
        "colab": {}
      },
      "source": [
        "df['RISK'] = df['INFECTION RATE'].apply(label_risk)"
      ],
      "execution_count": 0,
      "outputs": []
    },
    {
      "cell_type": "code",
      "metadata": {
        "id": "mc1I_WYnNe-p",
        "colab_type": "code",
        "colab": {}
      },
      "source": [
        "x = df.drop(['POPULATION','GEO_ID', 'COUNTY', 'STATE', 'INFECTION RATE', 'RISK'], axis = 1)\n",
        "y = df['RISK']\n",
        "#min_x = x.min(axis = 0)\n",
        "#max_x = x.max(axis = 0)\n",
        "#x = (x-min_x)/(max_x-min_x)\n",
        "x_train, x_test, y_train, y_test = train_test_split(x, y, test_size = 0.4, random_state = 0)"
      ],
      "execution_count": 0,
      "outputs": []
    },
    {
      "cell_type": "code",
      "metadata": {
        "id": "zkR1em_HQbsn",
        "colab_type": "code",
        "outputId": "1018ec1c-86be-4d00-d661-51b445441e14",
        "colab": {
          "base_uri": "https://localhost:8080/",
          "height": 389
        }
      },
      "source": [
        "x_train.head()"
      ],
      "execution_count": 11,
      "outputs": [
        {
          "output_type": "execute_result",
          "data": {
            "text/html": [
              "<div>\n",
              "<style scoped>\n",
              "    .dataframe tbody tr th:only-of-type {\n",
              "        vertical-align: middle;\n",
              "    }\n",
              "\n",
              "    .dataframe tbody tr th {\n",
              "        vertical-align: top;\n",
              "    }\n",
              "\n",
              "    .dataframe thead th {\n",
              "        text-align: right;\n",
              "    }\n",
              "</style>\n",
              "<table border=\"1\" class=\"dataframe\">\n",
              "  <thead>\n",
              "    <tr style=\"text-align: right;\">\n",
              "      <th></th>\n",
              "      <th>AGE15_19</th>\n",
              "      <th>AGE20_24</th>\n",
              "      <th>AGE25_29</th>\n",
              "      <th>AGE30_34</th>\n",
              "      <th>AGE55_59</th>\n",
              "      <th>AGE60_64</th>\n",
              "      <th>TOTAL_MALE</th>\n",
              "      <th>TOTAL_FEMALE</th>\n",
              "      <th>PERCENT_FEMALE</th>\n",
              "      <th>PERCENT_MALE</th>\n",
              "      <th>AGEUNDER15</th>\n",
              "      <th>AGE35_44</th>\n",
              "      <th>AGE45_54</th>\n",
              "      <th>AGE65_74</th>\n",
              "      <th>AGE_75OVER</th>\n",
              "      <th>PERCENT_TOTALPOP</th>\n",
              "      <th>INCOME_PERCAPITA</th>\n",
              "      <th>WORKERS 16 YEARS AND OVER</th>\n",
              "      <th>CAR, TRUCK, OR VAN</th>\n",
              "      <th>WORKERS PER CAR, TRUCK, OR VAN</th>\n",
              "      <th>PUBLIC TRANSPORTATION (EXCLUDING TAXICAB)</th>\n",
              "      <th>WALKED</th>\n",
              "      <th>BICYCLE</th>\n",
              "      <th>TAXICAB, MOTORCYCLE, OR OTHER MEANS</th>\n",
              "      <th>WORKED AT HOME</th>\n",
              "      <th>WORKED OUTSIDE COUNTY OF RESIDENCE</th>\n",
              "      <th>WORKED OUTSIDE STATE OF RESIDENCE</th>\n",
              "      <th>WORKERS 16 YEARS AND OVER WHO DID NOT WORK AT HOME</th>\n",
              "      <th>LESS THAN 10 MINUTES</th>\n",
              "      <th>10 TO 14 MINUTES</th>\n",
              "      <th>15 TO 19 MINUTES</th>\n",
              "      <th>20 TO 24 MINUTES</th>\n",
              "      <th>25 TO 29 MINUTES</th>\n",
              "      <th>30 TO 34 MINUTES</th>\n",
              "      <th>35 TO 44 MINUTES</th>\n",
              "      <th>45 TO 59 MINUTES</th>\n",
              "      <th>60 OR MORE MINUTES</th>\n",
              "      <th>MEAN TRAVEL TIME TO WORK (MINUTES)</th>\n",
              "      <th>LESS THAN HIGH SCHOOL GRADUATE</th>\n",
              "      <th>HIGH SCHOOL GRADUATE (INCLUDES EQUIVALENCY)</th>\n",
              "      <th>...</th>\n",
              "      <th>LABOR_FORCE_PARTICIPATION_RATE</th>\n",
              "      <th>LAB_16-19</th>\n",
              "      <th>LAB_20-24</th>\n",
              "      <th>LAB_25-29</th>\n",
              "      <th>LAB_30-34</th>\n",
              "      <th>LAB_35-44</th>\n",
              "      <th>LAB_45-54</th>\n",
              "      <th>LAB_55-59</th>\n",
              "      <th>LAB_60-64</th>\n",
              "      <th>LAB_65-74</th>\n",
              "      <th>LAB_OVER75</th>\n",
              "      <th>EMPLOYMENT/POPULATION_RATIO</th>\n",
              "      <th>EMP_16-19</th>\n",
              "      <th>EMP_20-24</th>\n",
              "      <th>EMP_25-29</th>\n",
              "      <th>EMP_30-34</th>\n",
              "      <th>EMP_35-44</th>\n",
              "      <th>EMP_45-54</th>\n",
              "      <th>EMP_55-59</th>\n",
              "      <th>EMP_60-64</th>\n",
              "      <th>EMP_65-74</th>\n",
              "      <th>EMP_OVER75</th>\n",
              "      <th>UNEMPLOYMENT_RATE</th>\n",
              "      <th>UNEMP_16-19</th>\n",
              "      <th>UNEMP_20-24</th>\n",
              "      <th>UNEMP_25-29</th>\n",
              "      <th>UNEMP_30-34</th>\n",
              "      <th>UNEMP_35-44</th>\n",
              "      <th>UNEMP_45-54</th>\n",
              "      <th>UNEMP_55-59</th>\n",
              "      <th>UNEMP_60-64</th>\n",
              "      <th>UNEMP_65-74</th>\n",
              "      <th>UNEMP_OVER75</th>\n",
              "      <th>PERCENT WITH PRIVATE HEALTH INSURANCE</th>\n",
              "      <th>PERCENT NO PRIVATE HEALTH INSURANCE</th>\n",
              "      <th>PERCENT WITH PUBLIC HEALTH INSURANCE</th>\n",
              "      <th>PERCENT NO PUBLIC HEALTH INSURANCE</th>\n",
              "      <th>PERCENT MISSING HEALTH</th>\n",
              "      <th>LAND AREA(SQMI)</th>\n",
              "      <th>POP DENSITY</th>\n",
              "    </tr>\n",
              "  </thead>\n",
              "  <tbody>\n",
              "    <tr>\n",
              "      <th>1770</th>\n",
              "      <td>6.6</td>\n",
              "      <td>6.7</td>\n",
              "      <td>5.9</td>\n",
              "      <td>5.9</td>\n",
              "      <td>8.4</td>\n",
              "      <td>7.0</td>\n",
              "      <td>73538.0</td>\n",
              "      <td>75914.0</td>\n",
              "      <td>50.794904</td>\n",
              "      <td>49.205096</td>\n",
              "      <td>15.7</td>\n",
              "      <td>11.8</td>\n",
              "      <td>14.7</td>\n",
              "      <td>10.1</td>\n",
              "      <td>7.2</td>\n",
              "      <td>0.046284</td>\n",
              "      <td>36148.0</td>\n",
              "      <td>77829.0</td>\n",
              "      <td>88.7</td>\n",
              "      <td>1.05</td>\n",
              "      <td>0.4</td>\n",
              "      <td>2.6</td>\n",
              "      <td>0.2</td>\n",
              "      <td>1.1</td>\n",
              "      <td>7.1</td>\n",
              "      <td>31.1</td>\n",
              "      <td>4.6</td>\n",
              "      <td>72312.0</td>\n",
              "      <td>14.1</td>\n",
              "      <td>12.9</td>\n",
              "      <td>14.1</td>\n",
              "      <td>14.2</td>\n",
              "      <td>7.1</td>\n",
              "      <td>13.1</td>\n",
              "      <td>7.7</td>\n",
              "      <td>8.3</td>\n",
              "      <td>8.6</td>\n",
              "      <td>26.6</td>\n",
              "      <td>6698.0</td>\n",
              "      <td>29457.0</td>\n",
              "      <td>...</td>\n",
              "      <td>66.3</td>\n",
              "      <td>46.4</td>\n",
              "      <td>82.8</td>\n",
              "      <td>84.9</td>\n",
              "      <td>79.6</td>\n",
              "      <td>84.9</td>\n",
              "      <td>85.8</td>\n",
              "      <td>79.6</td>\n",
              "      <td>64.2</td>\n",
              "      <td>29.2</td>\n",
              "      <td>8.0</td>\n",
              "      <td>63.6</td>\n",
              "      <td>41.8</td>\n",
              "      <td>75.2</td>\n",
              "      <td>79.2</td>\n",
              "      <td>77.3</td>\n",
              "      <td>82.2</td>\n",
              "      <td>83.4</td>\n",
              "      <td>77.6</td>\n",
              "      <td>62.4</td>\n",
              "      <td>28.5</td>\n",
              "      <td>7.8</td>\n",
              "      <td>3.9</td>\n",
              "      <td>9.4</td>\n",
              "      <td>8.3</td>\n",
              "      <td>6.5</td>\n",
              "      <td>2.6</td>\n",
              "      <td>2.9</td>\n",
              "      <td>2.6</td>\n",
              "      <td>2.5</td>\n",
              "      <td>2.8</td>\n",
              "      <td>2.1</td>\n",
              "      <td>2.2</td>\n",
              "      <td>72.088697</td>\n",
              "      <td>25.499826</td>\n",
              "      <td>32.516795</td>\n",
              "      <td>65.071729</td>\n",
              "      <td>0.000000</td>\n",
              "      <td>942.00</td>\n",
              "      <td>158.653928</td>\n",
              "    </tr>\n",
              "    <tr>\n",
              "      <th>3091</th>\n",
              "      <td>9.3</td>\n",
              "      <td>6.9</td>\n",
              "      <td>7.0</td>\n",
              "      <td>4.8</td>\n",
              "      <td>6.7</td>\n",
              "      <td>6.4</td>\n",
              "      <td>2324.0</td>\n",
              "      <td>2255.0</td>\n",
              "      <td>49.246560</td>\n",
              "      <td>50.753440</td>\n",
              "      <td>25.8</td>\n",
              "      <td>9.5</td>\n",
              "      <td>11.0</td>\n",
              "      <td>8.3</td>\n",
              "      <td>4.3</td>\n",
              "      <td>0.001418</td>\n",
              "      <td>20538.0</td>\n",
              "      <td>1585.0</td>\n",
              "      <td>84.9</td>\n",
              "      <td>1.05</td>\n",
              "      <td>2.8</td>\n",
              "      <td>3.2</td>\n",
              "      <td>0.0</td>\n",
              "      <td>0.0</td>\n",
              "      <td>9.1</td>\n",
              "      <td>18.4</td>\n",
              "      <td>0.0</td>\n",
              "      <td>1440.0</td>\n",
              "      <td>32.6</td>\n",
              "      <td>17.3</td>\n",
              "      <td>8.3</td>\n",
              "      <td>16.5</td>\n",
              "      <td>13.3</td>\n",
              "      <td>2.6</td>\n",
              "      <td>0.4</td>\n",
              "      <td>5.2</td>\n",
              "      <td>3.8</td>\n",
              "      <td>17.6</td>\n",
              "      <td>233.0</td>\n",
              "      <td>1151.0</td>\n",
              "      <td>...</td>\n",
              "      <td>52.0</td>\n",
              "      <td>24.7</td>\n",
              "      <td>60.1</td>\n",
              "      <td>61.1</td>\n",
              "      <td>73.8</td>\n",
              "      <td>84.3</td>\n",
              "      <td>61.1</td>\n",
              "      <td>61.0</td>\n",
              "      <td>56.1</td>\n",
              "      <td>10.2</td>\n",
              "      <td>14.6</td>\n",
              "      <td>48.9</td>\n",
              "      <td>20.7</td>\n",
              "      <td>53.8</td>\n",
              "      <td>52.7</td>\n",
              "      <td>67.4</td>\n",
              "      <td>81.3</td>\n",
              "      <td>59.5</td>\n",
              "      <td>61.0</td>\n",
              "      <td>56.1</td>\n",
              "      <td>8.9</td>\n",
              "      <td>14.6</td>\n",
              "      <td>5.9</td>\n",
              "      <td>16.1</td>\n",
              "      <td>10.5</td>\n",
              "      <td>13.8</td>\n",
              "      <td>8.6</td>\n",
              "      <td>3.6</td>\n",
              "      <td>2.6</td>\n",
              "      <td>0.0</td>\n",
              "      <td>0.0</td>\n",
              "      <td>12.8</td>\n",
              "      <td>0.0</td>\n",
              "      <td>42.933990</td>\n",
              "      <td>29.219245</td>\n",
              "      <td>29.450505</td>\n",
              "      <td>42.702730</td>\n",
              "      <td>25.000000</td>\n",
              "      <td>360.39</td>\n",
              "      <td>12.705680</td>\n",
              "    </tr>\n",
              "    <tr>\n",
              "      <th>83</th>\n",
              "      <td>6.9</td>\n",
              "      <td>6.3</td>\n",
              "      <td>6.9</td>\n",
              "      <td>7.3</td>\n",
              "      <td>7.1</td>\n",
              "      <td>6.1</td>\n",
              "      <td>53912.0</td>\n",
              "      <td>49552.0</td>\n",
              "      <td>47.892987</td>\n",
              "      <td>52.107013</td>\n",
              "      <td>22.7</td>\n",
              "      <td>13.2</td>\n",
              "      <td>12.9</td>\n",
              "      <td>7.3</td>\n",
              "      <td>3.3</td>\n",
              "      <td>0.032042</td>\n",
              "      <td>30943.0</td>\n",
              "      <td>42213.0</td>\n",
              "      <td>84.0</td>\n",
              "      <td>1.08</td>\n",
              "      <td>0.8</td>\n",
              "      <td>2.0</td>\n",
              "      <td>0.2</td>\n",
              "      <td>6.5</td>\n",
              "      <td>6.5</td>\n",
              "      <td>33.4</td>\n",
              "      <td>0.4</td>\n",
              "      <td>39476.0</td>\n",
              "      <td>13.3</td>\n",
              "      <td>12.2</td>\n",
              "      <td>14.7</td>\n",
              "      <td>11.8</td>\n",
              "      <td>3.1</td>\n",
              "      <td>7.6</td>\n",
              "      <td>4.0</td>\n",
              "      <td>11.8</td>\n",
              "      <td>21.5</td>\n",
              "      <td>34.5</td>\n",
              "      <td>5068.0</td>\n",
              "      <td>21381.0</td>\n",
              "      <td>...</td>\n",
              "      <td>61.3</td>\n",
              "      <td>35.6</td>\n",
              "      <td>75.8</td>\n",
              "      <td>74.5</td>\n",
              "      <td>70.1</td>\n",
              "      <td>75.3</td>\n",
              "      <td>74.5</td>\n",
              "      <td>66.6</td>\n",
              "      <td>52.4</td>\n",
              "      <td>25.3</td>\n",
              "      <td>7.1</td>\n",
              "      <td>54.8</td>\n",
              "      <td>25.4</td>\n",
              "      <td>57.7</td>\n",
              "      <td>66.0</td>\n",
              "      <td>63.1</td>\n",
              "      <td>69.3</td>\n",
              "      <td>69.3</td>\n",
              "      <td>61.1</td>\n",
              "      <td>49.3</td>\n",
              "      <td>23.8</td>\n",
              "      <td>6.4</td>\n",
              "      <td>9.5</td>\n",
              "      <td>28.4</td>\n",
              "      <td>22.7</td>\n",
              "      <td>9.8</td>\n",
              "      <td>8.4</td>\n",
              "      <td>5.6</td>\n",
              "      <td>6.4</td>\n",
              "      <td>8.3</td>\n",
              "      <td>6.0</td>\n",
              "      <td>5.8</td>\n",
              "      <td>9.8</td>\n",
              "      <td>62.117258</td>\n",
              "      <td>39.297727</td>\n",
              "      <td>36.259955</td>\n",
              "      <td>65.155030</td>\n",
              "      <td>82.758621</td>\n",
              "      <td>24829.55</td>\n",
              "      <td>4.166970</td>\n",
              "    </tr>\n",
              "    <tr>\n",
              "      <th>2978</th>\n",
              "      <td>6.1</td>\n",
              "      <td>5.5</td>\n",
              "      <td>5.9</td>\n",
              "      <td>5.7</td>\n",
              "      <td>7.4</td>\n",
              "      <td>7.4</td>\n",
              "      <td>38509.0</td>\n",
              "      <td>38438.0</td>\n",
              "      <td>49.953864</td>\n",
              "      <td>50.046136</td>\n",
              "      <td>17.7</td>\n",
              "      <td>11.5</td>\n",
              "      <td>12.4</td>\n",
              "      <td>12.1</td>\n",
              "      <td>8.3</td>\n",
              "      <td>0.023830</td>\n",
              "      <td>25813.0</td>\n",
              "      <td>29793.0</td>\n",
              "      <td>91.8</td>\n",
              "      <td>1.07</td>\n",
              "      <td>0.5</td>\n",
              "      <td>2.4</td>\n",
              "      <td>0.2</td>\n",
              "      <td>0.7</td>\n",
              "      <td>4.5</td>\n",
              "      <td>27.6</td>\n",
              "      <td>1.0</td>\n",
              "      <td>28456.0</td>\n",
              "      <td>18.2</td>\n",
              "      <td>14.0</td>\n",
              "      <td>13.0</td>\n",
              "      <td>11.4</td>\n",
              "      <td>6.2</td>\n",
              "      <td>10.7</td>\n",
              "      <td>7.4</td>\n",
              "      <td>7.4</td>\n",
              "      <td>11.8</td>\n",
              "      <td>27.5</td>\n",
              "      <td>6631.0</td>\n",
              "      <td>16047.0</td>\n",
              "      <td>...</td>\n",
              "      <td>53.2</td>\n",
              "      <td>35.6</td>\n",
              "      <td>76.3</td>\n",
              "      <td>78.1</td>\n",
              "      <td>75.2</td>\n",
              "      <td>76.8</td>\n",
              "      <td>74.5</td>\n",
              "      <td>61.9</td>\n",
              "      <td>46.0</td>\n",
              "      <td>14.8</td>\n",
              "      <td>5.4</td>\n",
              "      <td>48.8</td>\n",
              "      <td>27.0</td>\n",
              "      <td>67.3</td>\n",
              "      <td>67.2</td>\n",
              "      <td>69.2</td>\n",
              "      <td>71.6</td>\n",
              "      <td>69.5</td>\n",
              "      <td>58.9</td>\n",
              "      <td>44.3</td>\n",
              "      <td>14.0</td>\n",
              "      <td>4.7</td>\n",
              "      <td>8.2</td>\n",
              "      <td>24.2</td>\n",
              "      <td>11.7</td>\n",
              "      <td>14.0</td>\n",
              "      <td>8.0</td>\n",
              "      <td>6.3</td>\n",
              "      <td>6.4</td>\n",
              "      <td>4.7</td>\n",
              "      <td>3.7</td>\n",
              "      <td>5.2</td>\n",
              "      <td>12.6</td>\n",
              "      <td>58.117925</td>\n",
              "      <td>42.313540</td>\n",
              "      <td>51.044225</td>\n",
              "      <td>49.387241</td>\n",
              "      <td>23.076923</td>\n",
              "      <td>2416.65</td>\n",
              "      <td>31.840358</td>\n",
              "    </tr>\n",
              "    <tr>\n",
              "      <th>37</th>\n",
              "      <td>6.2</td>\n",
              "      <td>4.7</td>\n",
              "      <td>5.0</td>\n",
              "      <td>5.5</td>\n",
              "      <td>7.6</td>\n",
              "      <td>7.0</td>\n",
              "      <td>6800.0</td>\n",
              "      <td>7133.0</td>\n",
              "      <td>51.195005</td>\n",
              "      <td>48.804995</td>\n",
              "      <td>18.1</td>\n",
              "      <td>11.2</td>\n",
              "      <td>13.5</td>\n",
              "      <td>11.4</td>\n",
              "      <td>9.8</td>\n",
              "      <td>0.004315</td>\n",
              "      <td>21666.0</td>\n",
              "      <td>5283.0</td>\n",
              "      <td>98.2</td>\n",
              "      <td>1.06</td>\n",
              "      <td>0.7</td>\n",
              "      <td>0.1</td>\n",
              "      <td>0.0</td>\n",
              "      <td>0.1</td>\n",
              "      <td>0.9</td>\n",
              "      <td>24.8</td>\n",
              "      <td>28.4</td>\n",
              "      <td>5234.0</td>\n",
              "      <td>20.5</td>\n",
              "      <td>12.9</td>\n",
              "      <td>7.9</td>\n",
              "      <td>6.4</td>\n",
              "      <td>8.6</td>\n",
              "      <td>12.1</td>\n",
              "      <td>10.4</td>\n",
              "      <td>11.4</td>\n",
              "      <td>9.9</td>\n",
              "      <td>27.9</td>\n",
              "      <td>1741.0</td>\n",
              "      <td>3950.0</td>\n",
              "      <td>...</td>\n",
              "      <td>52.0</td>\n",
              "      <td>34.0</td>\n",
              "      <td>62.0</td>\n",
              "      <td>77.5</td>\n",
              "      <td>76.9</td>\n",
              "      <td>83.6</td>\n",
              "      <td>69.3</td>\n",
              "      <td>57.7</td>\n",
              "      <td>49.9</td>\n",
              "      <td>18.2</td>\n",
              "      <td>4.0</td>\n",
              "      <td>47.8</td>\n",
              "      <td>16.5</td>\n",
              "      <td>57.5</td>\n",
              "      <td>68.2</td>\n",
              "      <td>64.4</td>\n",
              "      <td>80.1</td>\n",
              "      <td>67.8</td>\n",
              "      <td>55.6</td>\n",
              "      <td>43.7</td>\n",
              "      <td>18.0</td>\n",
              "      <td>4.0</td>\n",
              "      <td>8.0</td>\n",
              "      <td>51.5</td>\n",
              "      <td>7.3</td>\n",
              "      <td>11.9</td>\n",
              "      <td>16.2</td>\n",
              "      <td>4.2</td>\n",
              "      <td>2.1</td>\n",
              "      <td>3.6</td>\n",
              "      <td>12.5</td>\n",
              "      <td>1.0</td>\n",
              "      <td>0.0</td>\n",
              "      <td>66.753328</td>\n",
              "      <td>33.964226</td>\n",
              "      <td>45.559484</td>\n",
              "      <td>55.158070</td>\n",
              "      <td>26.865672</td>\n",
              "      <td>605.09</td>\n",
              "      <td>23.026327</td>\n",
              "    </tr>\n",
              "  </tbody>\n",
              "</table>\n",
              "<p>5 rows × 97 columns</p>\n",
              "</div>"
            ],
            "text/plain": [
              "      AGE15_19  AGE20_24  ...  LAND AREA(SQMI)  POP DENSITY\n",
              "1770       6.6       6.7  ...           942.00   158.653928\n",
              "3091       9.3       6.9  ...           360.39    12.705680\n",
              "83         6.9       6.3  ...         24829.55     4.166970\n",
              "2978       6.1       5.5  ...          2416.65    31.840358\n",
              "37         6.2       4.7  ...           605.09    23.026327\n",
              "\n",
              "[5 rows x 97 columns]"
            ]
          },
          "metadata": {
            "tags": []
          },
          "execution_count": 11
        }
      ]
    },
    {
      "cell_type": "code",
      "metadata": {
        "id": "H5Rs5e_Dv_OA",
        "colab_type": "code",
        "outputId": "7accbde0-f6ac-40da-de89-c9cbdf33edce",
        "colab": {
          "base_uri": "https://localhost:8080/",
          "height": 34
        }
      },
      "source": [
        "x_train.shape"
      ],
      "execution_count": 14,
      "outputs": [
        {
          "output_type": "execute_result",
          "data": {
            "text/plain": [
              "(1570, 98)"
            ]
          },
          "metadata": {
            "tags": []
          },
          "execution_count": 14
        }
      ]
    },
    {
      "cell_type": "markdown",
      "metadata": {
        "id": "k_a_6CaRPQaM",
        "colab_type": "text"
      },
      "source": [
        "# 2. Model\n",
        "## 2.1 Logistic Regression"
      ]
    },
    {
      "cell_type": "code",
      "metadata": {
        "id": "7me4XGZmPTEs",
        "colab_type": "code",
        "outputId": "eb088172-6ca5-4d0f-8328-b0581b5cb997",
        "colab": {
          "base_uri": "https://localhost:8080/",
          "height": 102
        }
      },
      "source": [
        "from sklearn.linear_model import LogisticRegression\n",
        "lr = LogisticRegression(C = 0.15, max_iter=1000)\n",
        "lr.fit(x_train, y_train)"
      ],
      "execution_count": 0,
      "outputs": [
        {
          "output_type": "execute_result",
          "data": {
            "text/plain": [
              "LogisticRegression(C=0.15, class_weight=None, dual=False, fit_intercept=True,\n",
              "                   intercept_scaling=1, l1_ratio=None, max_iter=1000,\n",
              "                   multi_class='auto', n_jobs=None, penalty='l2',\n",
              "                   random_state=None, solver='lbfgs', tol=0.0001, verbose=0,\n",
              "                   warm_start=False)"
            ]
          },
          "metadata": {
            "tags": []
          },
          "execution_count": 106
        }
      ]
    },
    {
      "cell_type": "code",
      "metadata": {
        "id": "rVJhy3SNR479",
        "colab_type": "code",
        "outputId": "2b909275-3f47-47fb-aa48-f4aaf4e72a66",
        "colab": {
          "base_uri": "https://localhost:8080/",
          "height": 445
        }
      },
      "source": [
        "from sklearn.metrics import roc_curve, auc\n",
        "y_pred = lr.predict_proba(x_test)[:, 1]\n",
        "fpr, tpr, thresholds = roc_curve(y_test, y_pred)\n",
        "roc_auc = auc(fpr, tpr)\n",
        "\n",
        "plt.figure(figsize = (7,7))\n",
        "plt.plot([0,1], [0,1], 'r--')\n",
        "plt.plot(fpr, tpr, label = 'Logistic Regression:(AUC = %0.3F)' % roc_auc)\n",
        "plt.legend(loc = 'lower right')"
      ],
      "execution_count": 0,
      "outputs": [
        {
          "output_type": "execute_result",
          "data": {
            "text/plain": [
              "<matplotlib.legend.Legend at 0x7f3d440b5ef0>"
            ]
          },
          "metadata": {
            "tags": []
          },
          "execution_count": 107
        },
        {
          "output_type": "display_data",
          "data": {
            "image/png": "[encoded data removed]",
            "text/plain": [
              "<Figure size 504x504 with 1 Axes>"
            ]
          },
          "metadata": {
            "tags": [],
            "needs_background": "light"
          }
        }
      ]
    },
    {
      "cell_type": "code",
      "metadata": {
        "id": "SvE-vWnRn0Ih",
        "colab_type": "code",
        "colab": {}
      },
      "source": [
        "prediction = []\n",
        "for i in y_pred:\n",
        "    if i<=0.5:\n",
        "        prediction.append(0)\n",
        "    else:\n",
        "        prediction.append(1)"
      ],
      "execution_count": 0,
      "outputs": []
    },
    {
      "cell_type": "code",
      "metadata": {
        "id": "1RRFzHw9Xn6w",
        "colab_type": "code",
        "colab": {}
      },
      "source": [
        "def cal_recall(prediction, y_test):\n",
        "    tp = 0\n",
        "    fp = 0\n",
        "    tn = 0\n",
        "    fn = 0\n",
        "    for i in range(len(prediction)):\n",
        "        if prediction[i] == 1 and y_test[i] == 1:\n",
        "            tp += 1\n",
        "        if prediction[i] == 1 and y_test[i] == 0:\n",
        "            fp += 1\n",
        "        if prediction[i] == 0 and y_test[i] == 1:\n",
        "            fn += 1\n",
        "        if prediction[i] == 0 and y_test[i] == 0:\n",
        "            tn += 1\n",
        "    recall = tp/(tp+fn)\n",
        "    precision = tp/(tp+fp)\n",
        "    return recall, precision, tp, fp, tn, fn\n"
      ],
      "execution_count": 0,
      "outputs": []
    },
    {
      "cell_type": "code",
      "metadata": {
        "id": "W0RAnsCboLL0",
        "colab_type": "code",
        "colab": {}
      },
      "source": [
        "with open(\"logreg_pred_proba.pkl\", \"wb\") as fout:\n",
        "    pickle.dump(y_pred, fout)"
      ],
      "execution_count": 0,
      "outputs": []
    },
    {
      "cell_type": "code",
      "metadata": {
        "id": "jTyDd9JPZArJ",
        "colab_type": "code",
        "outputId": "04745441-3e04-4a56-d7a6-8c031cb9737d",
        "colab": {
          "base_uri": "https://localhost:8080/",
          "height": 34
        }
      },
      "source": [
        "recall = cal_recall(prediction, list(y_test))\n",
        "print('Logistic Regression recall:', recall)"
      ],
      "execution_count": 0,
      "outputs": [
        {
          "output_type": "stream",
          "text": [
            "Logistic Regression recall: (0.6389413988657845, 0.6997929606625258, 338, 145, 374, 191)\n"
          ],
          "name": "stdout"
        }
      ]
    },
    {
      "cell_type": "markdown",
      "metadata": {
        "id": "bp0sLA0BakZ4",
        "colab_type": "text"
      },
      "source": [
        "## 2.2 SVM\n"
      ]
    },
    {
      "cell_type": "code",
      "metadata": {
        "id": "JDmD-Z5TWje1",
        "colab_type": "code",
        "colab": {
          "base_uri": "https://localhost:8080/",
          "height": 34
        },
        "outputId": "56250934-c9e8-4fa8-9414-8449647c7c6c"
      },
      "source": [
        "print(x_train_std.shape, y.shape)"
      ],
      "execution_count": 80,
      "outputs": [
        {
          "output_type": "stream",
          "text": [
            "(2618, 97) (2618,)\n"
          ],
          "name": "stdout"
        }
      ]
    },
    {
      "cell_type": "code",
      "metadata": {
        "id": "aeH54RVculxQ",
        "colab_type": "code",
        "outputId": "61343e6c-5095-4f6e-d2dc-82d899bfc23d",
        "colab": {
          "base_uri": "https://localhost:8080/",
          "height": 85
        }
      },
      "source": [
        "from sklearn import svm\n",
        "svm = svm.SVC(C=3, kernel='linear', probability = True)\n",
        "svm.fit(x_train_std, y)"
      ],
      "execution_count": 85,
      "outputs": [
        {
          "output_type": "execute_result",
          "data": {
            "text/plain": [
              "SVC(C=3, break_ties=False, cache_size=200, class_weight=None, coef0=0.0,\n",
              "    decision_function_shape='ovr', degree=3, gamma='scale', kernel='linear',\n",
              "    max_iter=-1, probability=True, random_state=None, shrinking=True, tol=0.001,\n",
              "    verbose=False)"
            ]
          },
          "metadata": {
            "tags": []
          },
          "execution_count": 85
        }
      ]
    },
    {
      "cell_type": "code",
      "metadata": {
        "id": "yDEPG2i6ulq-",
        "colab_type": "code",
        "outputId": "30849c93-d4f3-4919-a662-db735f308d4d",
        "colab": {
          "base_uri": "https://localhost:8080/",
          "height": 445
        }
      },
      "source": [
        "from sklearn.metrics import roc_curve, auc\n",
        "y_pred = svm.predict_proba(x_test)[:, -1]\n",
        "fpr, tpr, thresholds = roc_curve(y_test, y_pred)\n",
        "roc_auc = auc(fpr, tpr)\n",
        "\n",
        "plt.figure(figsize = (7,7))\n",
        "plt.plot([0,1], [0,1], 'r--')\n",
        "plt.plot(fpr, tpr, label = 'SVM:(AUC = %0.3F)' % roc_auc)\n",
        "plt.legend(loc = 'lower right')"
      ],
      "execution_count": 0,
      "outputs": [
        {
          "output_type": "execute_result",
          "data": {
            "text/plain": [
              "<matplotlib.legend.Legend at 0x7f3d4414dbe0>"
            ]
          },
          "metadata": {
            "tags": []
          },
          "execution_count": 102
        },
        {
          "output_type": "display_data",
          "data": {
            "image/png": "[encoded data removed]",
            "text/plain": [
              "<Figure size 504x504 with 1 Axes>"
            ]
          },
          "metadata": {
            "tags": [],
            "needs_background": "light"
          }
        }
      ]
    },
    {
      "cell_type": "code",
      "metadata": {
        "id": "AWtKV_hEq6Bi",
        "colab_type": "code",
        "colab": {}
      },
      "source": [
        "with open(\"svm_pred_proba.pkl\", \"wb\") as fout:\n",
        "    pickle.dump(y_pred, fout)"
      ],
      "execution_count": 0,
      "outputs": []
    },
    {
      "cell_type": "code",
      "metadata": {
        "id": "kipLhpLHrfxb",
        "colab_type": "code",
        "colab": {}
      },
      "source": [
        "prediction = []\n",
        "for i in y_pred:\n",
        "    if i<=0.5:\n",
        "        prediction.append(0)\n",
        "    else:\n",
        "        prediction.append(1)"
      ],
      "execution_count": 0,
      "outputs": []
    },
    {
      "cell_type": "code",
      "metadata": {
        "id": "4HrY3apAwGqF",
        "colab_type": "code",
        "outputId": "c2bba95c-f09b-4e7c-d5f6-180d39f7fdb3",
        "colab": {
          "base_uri": "https://localhost:8080/",
          "height": 34
        }
      },
      "source": [
        "recall = cal_recall(prediction, list(y_test))\n",
        "print('SVM recall:', recall)"
      ],
      "execution_count": 0,
      "outputs": [
        {
          "output_type": "stream",
          "text": [
            "SVM recall: (0.6313799621928167, 0.7292576419213974, 334, 124, 395, 195)\n"
          ],
          "name": "stdout"
        }
      ]
    },
    {
      "cell_type": "markdown",
      "metadata": {
        "id": "sJxWpzJMwGAI",
        "colab_type": "text"
      },
      "source": [
        "## 2.3 NN"
      ]
    },
    {
      "cell_type": "code",
      "metadata": {
        "id": "Ebk-Bzuj5Cgc",
        "colab_type": "code",
        "outputId": "1a7f52dc-5431-4b11-fed5-561cc5b6641b",
        "colab": {
          "base_uri": "https://localhost:8080/",
          "height": 51
        }
      },
      "source": [
        "# If there's a GPU available...\n",
        "if torch.cuda.is_available():    \n",
        "\n",
        "    # Tell PyTorch to use the GPU.    \n",
        "    device = torch.device(\"cuda\")\n",
        "\n",
        "    print('There are %d GPU(s) available.' % torch.cuda.device_count())\n",
        "\n",
        "    print('We will use the GPU:', torch.cuda.get_device_name(0))\n",
        "\n",
        "# If not...\n",
        "else:\n",
        "    print('No GPU available, using the CPU instead.')\n",
        "    device = torch.device(\"cpu\")"
      ],
      "execution_count": 0,
      "outputs": [
        {
          "output_type": "stream",
          "text": [
            "There are 1 GPU(s) available.\n",
            "We will use the GPU: Tesla P100-PCIE-16GB\n"
          ],
          "name": "stdout"
        }
      ]
    },
    {
      "cell_type": "code",
      "metadata": {
        "id": "Z5zBD4Nq1ocZ",
        "colab_type": "code",
        "colab": {}
      },
      "source": [
        "def dftotensor(df):\n",
        "    my_array = np.array(df)\n",
        "    ten = torch.tensor(my_array)\n",
        "\n",
        "    return ten"
      ],
      "execution_count": 0,
      "outputs": []
    },
    {
      "cell_type": "code",
      "metadata": {
        "id": "dd6yHE651o4t",
        "colab_type": "code",
        "outputId": "defe5b15-c2b4-4ad3-ef90-f0e165a59bc5",
        "colab": {
          "base_uri": "https://localhost:8080/",
          "height": 34
        }
      },
      "source": [
        "xtrain = dftotensor(x_train)\n",
        "ytrain = dftotensor(y_train)\n",
        "\n",
        "xtest = dftotensor(x_test)\n",
        "ytest = dftotensor(y_test)\n",
        "print(xtrain.shape, ytrain.shape, xtest.shape, ytest.shape)"
      ],
      "execution_count": 0,
      "outputs": [
        {
          "output_type": "stream",
          "text": [
            "torch.Size([1570, 98]) torch.Size([1570]) torch.Size([1048, 98]) torch.Size([1048])\n"
          ],
          "name": "stdout"
        }
      ]
    },
    {
      "cell_type": "code",
      "metadata": {
        "id": "aH2GI6lb2eIl",
        "colab_type": "code",
        "colab": {}
      },
      "source": [
        "xtrain = xtrain.float()\n",
        "ytrain = ytrain.float()\n",
        "xtest = xtest.float()\n",
        "ytest = ytest.float()"
      ],
      "execution_count": 0,
      "outputs": []
    },
    {
      "cell_type": "code",
      "metadata": {
        "id": "9Sps6sCyBImi",
        "colab_type": "code",
        "outputId": "889311c9-4d61-48c5-88fb-5ead8d7913fb",
        "colab": {
          "base_uri": "https://localhost:8080/",
          "height": 34
        }
      },
      "source": [
        "print(ytrain)"
      ],
      "execution_count": 0,
      "outputs": [
        {
          "output_type": "stream",
          "text": [
            "tensor([1., 0., 0.,  ..., 1., 0., 1.])\n"
          ],
          "name": "stdout"
        }
      ]
    },
    {
      "cell_type": "code",
      "metadata": {
        "id": "eH3tvQJ82r6z",
        "colab_type": "code",
        "colab": {}
      },
      "source": [
        "class Net(torch.nn.Module):  \n",
        "    def __init__(self, n_feature, n_hidden, n_output):   \n",
        "        super(Net, self).__init__()     \n",
        "        self.hidden = torch.nn.Linear(n_feature, n_hidden)  \n",
        "        #self.hidden1 = torch.nn.Linear(n_hidden, n_hidden) \n",
        "        self.predict = torch.nn.Linear(n_hidden, n_output)   \n",
        " \n",
        "    def forward(self, x):   #3 hidden layers\n",
        "        x = F.softplus(self.hidden(x))\n",
        "        #x = F.relu(self.hidden1(x))\n",
        "        #x = F.relu(self.hidden1(x))      \n",
        "        x = F.softmax(self.predict(x))            \n",
        "        return x\n",
        " \n",
        "net = Net(n_feature=98, n_hidden=150, n_output=2)"
      ],
      "execution_count": 0,
      "outputs": []
    },
    {
      "cell_type": "code",
      "metadata": {
        "id": "gif4-yQ43d5j",
        "colab_type": "code",
        "colab": {}
      },
      "source": [
        "optimizer = optim.Adam(net.parameters(),lr = 0.001, weight_decay = 0.1)\n",
        "criterion = torch.nn.MSELoss() "
      ],
      "execution_count": 0,
      "outputs": []
    },
    {
      "cell_type": "code",
      "metadata": {
        "id": "SjR8_oP97W7g",
        "colab_type": "code",
        "outputId": "cb248ad5-53bc-4b7b-9202-8578eed08b30",
        "colab": {
          "base_uri": "https://localhost:8080/",
          "height": 34
        }
      },
      "source": [
        "print(ytrain)"
      ],
      "execution_count": 0,
      "outputs": [
        {
          "output_type": "stream",
          "text": [
            "tensor([1., 0., 0.,  ..., 1., 0., 1.])\n"
          ],
          "name": "stdout"
        }
      ]
    },
    {
      "cell_type": "code",
      "metadata": {
        "id": "Zbi0NUHa6srK",
        "colab_type": "code",
        "outputId": "74e1f206-c30a-4b02-9463-9e23a246da28",
        "colab": {
          "base_uri": "https://localhost:8080/",
          "height": 122
        }
      },
      "source": [
        "out = net(xtrain)[:,-1]\n",
        "print(out.shape)\n",
        "print(out)"
      ],
      "execution_count": 0,
      "outputs": [
        {
          "output_type": "stream",
          "text": [
            "torch.Size([1570])\n",
            "tensor([0.5325, 0.5425, 0.5338,  ..., 0.5311, 0.5332, 0.5340],\n",
            "       grad_fn=<SelectBackward>)\n"
          ],
          "name": "stdout"
        },
        {
          "output_type": "stream",
          "text": [
            "/usr/local/lib/python3.6/dist-packages/ipykernel_launcher.py:12: UserWarning: Implicit dimension choice for softmax has been deprecated. Change the call to include dim=X as an argument.\n",
            "  if sys.path[0] == '':\n"
          ],
          "name": "stderr"
        }
      ]
    },
    {
      "cell_type": "code",
      "metadata": {
        "id": "J49568xG3eLs",
        "colab_type": "code",
        "outputId": "3eff0323-b2ce-47c1-d6a6-718718aa8791",
        "colab": {
          "base_uri": "https://localhost:8080/",
          "height": 910
        }
      },
      "source": [
        "losslisttrain1 = []\n",
        "losslistval1 = []\n",
        "\n",
        "for epoch in range(100):\n",
        "    avg_loss = 0\n",
        "    ix_shuffle = np.arange(xtrain.shape[0])\n",
        "    np.random.shuffle(ix_shuffle)\n",
        "    ypred =  np.zeros(ytrain.shape)\n",
        "    for ix in ix_shuffle:\n",
        "        optimizer.zero_grad()\n",
        "        x = xtrain\n",
        "        target = ytrain\n",
        "        #x = Variable(torch.from_numpy(xtrain[ix]))\n",
        "        #target = Variable(torch.LongTensor(ytrain[ix]))\n",
        "        out = net(x)[:,-1]\n",
        "        ypred[ix] = out.data.numpy().ravel()[2]\n",
        "        loss = criterion(out, target)\n",
        "        avg_loss += loss.data.numpy().ravel()[0]\n",
        "        loss.backward()\n",
        "        optimizer.step()\n",
        "    losslisttrain1.append(avg_loss/xtrain.shape[0])\n",
        "    if epoch % 10 == 0:\n",
        "        print('avg train loss is', avg_loss/xtrain.shape[0])\n",
        "        #print('AUC train is:', roc_auc_score(y_true=(ytrain==2), y_score=ypred))\n",
        "\n",
        "    ix_shuffle = np.arange(xtest.shape[0])\n",
        "    np.random.shuffle(ix_shuffle)\n",
        "    avg_loss = 0\n",
        "    ypredtest = np.zeros(ytest.shape)\n",
        "    for ix in ix_shuffle:\n",
        "        #x = Variable(torch.from_numpy(xtest[ix]))\n",
        "        #target = Variable(torch.LongTensor(ytest[ix]))\n",
        "        x = xtest\n",
        "        target = ytest\n",
        "        out = net(x)[:,-1]\n",
        "        ypredtest[ix] = out.data.numpy().ravel()[2]\n",
        "        loss = criterion(out, target)\n",
        "        avg_loss += loss.data.numpy().ravel()[0]\n",
        "    losslistval1.append(avg_loss/xtest.shape[0])\n",
        "    if epoch % 10 == 0:\n",
        "        print('avg test loss is', avg_loss/xtest.shape[0])\n",
        "        #print('AUC test is:', roc_auc_score(y_true=(ytest==2), y_score=ypredtest))\n",
        "\n",
        "plt.plot(losslisttrain1); plt.show()\n",
        "plt.plot(losslistval1); plt.show()"
      ],
      "execution_count": 0,
      "outputs": [
        {
          "output_type": "stream",
          "text": [
            "/usr/local/lib/python3.6/dist-packages/ipykernel_launcher.py:12: UserWarning: Implicit dimension choice for softmax has been deprecated. Change the call to include dim=X as an argument.\n",
            "  if sys.path[0] == '':\n"
          ],
          "name": "stderr"
        },
        {
          "output_type": "stream",
          "text": [
            "avg train loss is 0.35435933021318383\n",
            "avg test loss is 0.3952939808368683\n",
            "avg train loss is 0.24978782938923805\n",
            "avg test loss is 0.24995867908000946\n",
            "avg train loss is 0.24999178840666061\n",
            "avg test loss is 0.2500403821468353\n",
            "avg train loss is 0.2499916906664326\n",
            "avg test loss is 0.25004521012306213\n",
            "avg train loss is 0.24999179406340716\n",
            "avg test loss is 0.25004005432128906\n",
            "avg train loss is 0.24999209364318545\n",
            "avg test loss is 0.2500401437282562\n",
            "avg train loss is 0.2499920921151046\n",
            "avg test loss is 0.250039666891098\n",
            "avg train loss is 0.24999197474710502\n",
            "avg test loss is 0.25003746151924133\n",
            "avg train loss is 0.24999211790265552\n",
            "avg test loss is 0.2500540018081665\n",
            "avg train loss is 0.2499919661860557\n",
            "avg test loss is 0.2500576078891754\n"
          ],
          "name": "stdout"
        },
        {
          "output_type": "display_data",
          "data": {
            "image/png": "[encoded data removed]",
            "text/plain": [
              "<Figure size 432x288 with 1 Axes>"
            ]
          },
          "metadata": {
            "tags": [],
            "needs_background": "light"
          }
        },
        {
          "output_type": "display_data",
          "data": {
            "image/png": "[encoded data removed]",
            "text/plain": [
              "<Figure size 432x288 with 1 Axes>"
            ]
          },
          "metadata": {
            "tags": [],
            "needs_background": "light"
          }
        }
      ]
    },
    {
      "cell_type": "markdown",
      "metadata": {
        "id": "0A-kQazBWksT",
        "colab_type": "text"
      },
      "source": [
        "## 2.4 Perceptron"
      ]
    },
    {
      "cell_type": "code",
      "metadata": {
        "id": "2-eg17YVW83V",
        "colab_type": "code",
        "outputId": "a2099f50-d35c-4792-f9a2-1b44d336016a",
        "colab": {
          "base_uri": "https://localhost:8080/",
          "height": 85
        }
      },
      "source": [
        "from sklearn.linear_model import Perceptron\n",
        "pc = Perceptron(penalty = 'l2',alpha = 0.01)\n",
        "pc.fit(x_train_std, y_train)"
      ],
      "execution_count": 29,
      "outputs": [
        {
          "output_type": "execute_result",
          "data": {
            "text/plain": [
              "Perceptron(alpha=0.01, class_weight=None, early_stopping=False, eta0=1.0,\n",
              "           fit_intercept=True, max_iter=1000, n_iter_no_change=5, n_jobs=None,\n",
              "           penalty='l2', random_state=0, shuffle=True, tol=0.001,\n",
              "           validation_fraction=0.1, verbose=0, warm_start=False)"
            ]
          },
          "metadata": {
            "tags": []
          },
          "execution_count": 29
        }
      ]
    },
    {
      "cell_type": "code",
      "metadata": {
        "id": "8WH17uRGMrNP",
        "colab_type": "code",
        "colab": {
          "base_uri": "https://localhost:8080/",
          "height": 34
        },
        "outputId": "101f15e7-ba29-42f7-bda8-d0f79962d74b"
      },
      "source": [
        "preds1 = pc.predict(x_missing_std)\n",
        "print(Counter(preds1))"
      ],
      "execution_count": 35,
      "outputs": [
        {
          "output_type": "stream",
          "text": [
            "Counter({0: 436, 1: 93})\n"
          ],
          "name": "stdout"
        }
      ]
    },
    {
      "cell_type": "code",
      "metadata": {
        "id": "2d4PLdk4yZKS",
        "colab_type": "code",
        "colab": {}
      },
      "source": [
        "from sklearn import linear_model\n",
        "from sklearn.datasets import make_classification\n",
        "from sklearn.calibration import CalibratedClassifierCV\n",
        "# Build a classification task using 3 informative features\n",
        "X, y = make_classification(n_samples = 1570,\n",
        "                           n_features=98,\n",
        "                           n_classes=2,\n",
        "                           n_redundant = 0,\n",
        "                           random_state=0,\n",
        "                           shuffle=False)\n",
        "\n",
        "clf_isotonic = CalibratedClassifierCV(pc, method='sigmoid')\n",
        "\n",
        "clf_isotonic.fit(x_train_std, y_train)\n",
        "\n",
        "preds = clf_isotonic.predict_proba(x_missing_std)[:,-1]"
      ],
      "execution_count": 0,
      "outputs": []
    },
    {
      "cell_type": "code",
      "metadata": {
        "id": "0miVU5n4MOdo",
        "colab_type": "code",
        "colab": {
          "base_uri": "https://localhost:8080/",
          "height": 34
        },
        "outputId": "01458da0-8a4b-46ad-cb6c-1d7f8b874cbe"
      },
      "source": [
        "#new \n",
        "prediction = []\n",
        "for i in preds:\n",
        "    if i>0.5:\n",
        "        prediction.append(1)\n",
        "    else:\n",
        "        prediction.append(0)\n",
        "print(Counter(prediction))"
      ],
      "execution_count": 34,
      "outputs": [
        {
          "output_type": "stream",
          "text": [
            "Counter({0: 438, 1: 91})\n"
          ],
          "name": "stdout"
        }
      ]
    },
    {
      "cell_type": "code",
      "metadata": {
        "id": "5z2XyTRcW8zO",
        "colab_type": "code",
        "outputId": "ae2838ff-636e-4fbf-d851-a69fd0387f3b",
        "colab": {
          "base_uri": "https://localhost:8080/",
          "height": 445
        }
      },
      "source": [
        "from sklearn.metrics import roc_curve, auc\n",
        "#y_pred = pc.predict(x_test)\n",
        "y_pred = preds[:,-1]\n",
        "fpr, tpr, thresholds = roc_curve(y_test, y_pred)\n",
        "roc_auc = auc(fpr, tpr)\n",
        "\n",
        "plt.figure(figsize = (7,7))\n",
        "plt.plot([0,1], [0,1], 'r--')\n",
        "plt.plot(fpr, tpr, label = 'SVM:(AUC = %0.3F)' % roc_auc)\n",
        "plt.legend(loc = 'lower right')"
      ],
      "execution_count": 0,
      "outputs": [
        {
          "output_type": "execute_result",
          "data": {
            "text/plain": [
              "<matplotlib.legend.Legend at 0x7f3d43c935c0>"
            ]
          },
          "metadata": {
            "tags": []
          },
          "execution_count": 140
        },
        {
          "output_type": "display_data",
          "data": {
            "image/png": "[encoded data removed]",
            "text/plain": [
              "<Figure size 504x504 with 1 Axes>"
            ]
          },
          "metadata": {
            "tags": [],
            "needs_background": "light"
          }
        }
      ]
    },
    {
      "cell_type": "code",
      "metadata": {
        "id": "42wwMtMetWpb",
        "colab_type": "code",
        "outputId": "4b6bef6f-fcdd-45b5-a262-364a4c5acc91",
        "colab": {
          "base_uri": "https://localhost:8080/",
          "height": 34
        }
      },
      "source": [
        "print(y_pred)"
      ],
      "execution_count": 0,
      "outputs": [
        {
          "output_type": "stream",
          "text": [
            "[0.50107673 0.48452863 0.53922081 ... 0.46152679 0.41972062 0.45369716]\n"
          ],
          "name": "stdout"
        }
      ]
    },
    {
      "cell_type": "code",
      "metadata": {
        "id": "tmbIJJKis5rA",
        "colab_type": "code",
        "colab": {}
      },
      "source": [
        "prediction = []\n",
        "for i in y_pred:\n",
        "    if i<=0.5:\n",
        "        prediction.append(0)\n",
        "    else:\n",
        "        prediction.append(1)"
      ],
      "execution_count": 0,
      "outputs": []
    },
    {
      "cell_type": "code",
      "metadata": {
        "id": "ye2jrWxlX_j5",
        "colab_type": "code",
        "outputId": "617e95e9-81d6-42e3-82bd-d12f456d2568",
        "colab": {
          "base_uri": "https://localhost:8080/",
          "height": 34
        }
      },
      "source": [
        "recall= cal_recall(prediction, list(y_test))\n",
        "print('Perceptron recall/precision:', recall)"
      ],
      "execution_count": 0,
      "outputs": [
        {
          "output_type": "stream",
          "text": [
            "Perceptron recall/precision: (0.5897920604914934, 0.6842105263157895, 312, 144, 375, 217)\n"
          ],
          "name": "stdout"
        }
      ]
    },
    {
      "cell_type": "code",
      "metadata": {
        "id": "KuNS2YLHx9mx",
        "colab_type": "code",
        "colab": {}
      },
      "source": [
        "with open(\"perceptron_pred_proba.pkl\", \"wb\") as fout:\n",
        "    pickle.dump(y_pred, fout)"
      ],
      "execution_count": 0,
      "outputs": []
    },
    {
      "cell_type": "markdown",
      "metadata": {
        "id": "mQI3akwKCDnC",
        "colab_type": "text"
      },
      "source": [
        "## 2.5 SVM-counties with 0 infection rate"
      ]
    },
    {
      "cell_type": "code",
      "metadata": {
        "colab_type": "code",
        "id": "kNupYCE7CJ0W",
        "colab": {}
      },
      "source": [
        "#new\n",
        "from sklearn.preprocessing import StandardScaler\n",
        "scaler = StandardScaler()\n",
        "x_train_std = scaler.fit_transform(x)\n",
        "x_test_std = scaler.transform(x_test)"
      ],
      "execution_count": 0,
      "outputs": []
    },
    {
      "cell_type": "code",
      "metadata": {
        "id": "uuXdIIKt-qYo",
        "colab_type": "code",
        "outputId": "30b0e04c-ee3b-4f79-b478-69c37de9b22b",
        "colab": {
          "base_uri": "https://localhost:8080/",
          "height": 445
        }
      },
      "source": [
        "#new\n",
        "\n",
        "from sklearn import svm\n",
        "clf = svm.NuSVC(kernel = 'rbf')\n",
        "clf.fit(x_train_std, y)\n",
        "\n",
        "y_pred = clf.predict(x_test_std)\n",
        "fpr, tpr, thresholds = roc_curve(y_test, y_pred)\n",
        "roc_auc = auc(fpr, tpr)\n",
        "\n",
        "plt.figure(figsize = (7,7))\n",
        "plt.plot([0,1], [0,1], 'r--')\n",
        "plt.plot(fpr, tpr, label = 'SVM:(AUC = %0.3F)' % roc_auc)\n",
        "plt.legend(loc = 'lower right')"
      ],
      "execution_count": 87,
      "outputs": [
        {
          "output_type": "execute_result",
          "data": {
            "text/plain": [
              "<matplotlib.legend.Legend at 0x7f0fa372a9e8>"
            ]
          },
          "metadata": {
            "tags": []
          },
          "execution_count": 87
        },
        {
          "output_type": "display_data",
          "data": {
            "image/png": "[encoded data removed]",
            "text/plain": [
              "<Figure size 504x504 with 1 Axes>"
            ]
          },
          "metadata": {
            "tags": [],
            "needs_background": "light"
          }
        }
      ]
    },
    {
      "cell_type": "code",
      "metadata": {
        "id": "bbwCrFMk_lXG",
        "colab_type": "code",
        "outputId": "be31380b-ef18-4127-f1ad-c7820f19e6be",
        "colab": {
          "base_uri": "https://localhost:8080/",
          "height": 34
        }
      },
      "source": [
        "#new\n",
        "recall = cal_recall(y_pred, list(y_test))\n",
        "print('SVM recall:', recall)"
      ],
      "execution_count": 88,
      "outputs": [
        {
          "output_type": "stream",
          "text": [
            "SVM recall: (0.8733459357277883, 0.9221556886227545, 462, 39, 480, 67)\n"
          ],
          "name": "stdout"
        }
      ]
    },
    {
      "cell_type": "code",
      "metadata": {
        "id": "FMDBxBKPBf2n",
        "colab_type": "code",
        "colab": {}
      },
      "source": [
        "#new\n",
        "x_missing = missing.drop(['POPULATION','GEO_ID', 'COUNTY', 'STATE', 'INFECTION RATE'], axis = 1)\n",
        "x_missing_std = scaler.transform(x_missing)"
      ],
      "execution_count": 0,
      "outputs": []
    },
    {
      "cell_type": "code",
      "metadata": {
        "id": "27HLX3wzCjPR",
        "colab_type": "code",
        "colab": {}
      },
      "source": [
        "y_pred = clf.predict(x_missing_std)"
      ],
      "execution_count": 0,
      "outputs": []
    },
    {
      "cell_type": "code",
      "metadata": {
        "id": "MP1-UB3WC0VQ",
        "colab_type": "code",
        "colab": {
          "base_uri": "https://localhost:8080/",
          "height": 34
        },
        "outputId": "01f5524d-f3f9-41f1-edfc-e4b138ae4751"
      },
      "source": [
        "from collections import Counter\n",
        "print(Counter(y_pred))\n"
      ],
      "execution_count": 94,
      "outputs": [
        {
          "output_type": "stream",
          "text": [
            "Counter({0: 310, 1: 219})\n"
          ],
          "name": "stdout"
        }
      ]
    },
    {
      "cell_type": "code",
      "metadata": {
        "id": "Up9ffN0JJxNj",
        "colab_type": "code",
        "colab": {
          "base_uri": "https://localhost:8080/",
          "height": 34
        },
        "outputId": "a623f611-c80c-4f78-9377-b1575d539f21"
      },
      "source": [
        "temp = []\n",
        "result = Counter(y_pred)\n",
        "for i in range(len(y_pred)):\n",
        "    if y_pred[i] ==1:\n",
        "        temp.append(i)\n",
        "print(len(temp))"
      ],
      "execution_count": 99,
      "outputs": [
        {
          "output_type": "stream",
          "text": [
            "219\n"
          ],
          "name": "stdout"
        }
      ]
    },
    {
      "cell_type": "code",
      "metadata": {
        "id": "mePt8CSQd-YS",
        "colab_type": "code",
        "colab": {}
      },
      "source": [
        "test = missing.iloc[temp]\n",
        "test.head()\n",
        "t1 = test[['STATE','COUNTY']]\n",
        "t1.to_csv('219.csv')"
      ],
      "execution_count": 0,
      "outputs": []
    },
    {
      "cell_type": "code",
      "metadata": {
        "id": "pI8l4WhkKPcw",
        "colab_type": "code",
        "colab": {
          "base_uri": "https://localhost:8080/",
          "height": 1000
        },
        "outputId": "e71aa5e4-e672-4b3a-edda-09bb04b45514"
      },
      "source": [
        "for i in temp:\n",
        "    print(missing.iloc[i].COUNTY)"
      ],
      "execution_count": 115,
      "outputs": [
        {
          "output_type": "stream",
          "text": [
            "Geneva County\n",
            "Aleutians East Borough\n",
            "Aleutians West Census Area\n",
            "Bristol Bay Borough\n",
            "Denali Borough\n",
            "Dillingham Census Area\n",
            "Haines Borough\n",
            "Hoonah-Angoon Census Area\n",
            "Kodiak Island Borough\n",
            "Kusilvak Census Area\n",
            "Lake and Peninsula Borough\n",
            "Nome Census Area\n",
            "North Slope Borough\n",
            "Northwest Arctic Borough\n",
            "Sitka City and Borough\n",
            "Skagway Municipality\n",
            "Valdez-Cordova Census Area\n",
            "Yakutat City and Borough\n",
            "Jackson County\n",
            "Little River County\n",
            "Mariposa County\n",
            "Sierra County\n",
            "Trinity County\n",
            "Conejos County\n",
            "Dolores County\n",
            "Jackson County\n",
            "San Juan County\n",
            "Glascock County\n",
            "Montgomery County\n",
            "Taliaferro County\n",
            "Kalawao County\n",
            "Clark County\n",
            "Oneida County\n",
            "Alexander County\n",
            "Hardin County\n",
            "Pope County\n",
            "Cheyenne County\n",
            "Clark County\n",
            "Decatur County\n",
            "Elk County\n",
            "Graham County\n",
            "Greeley County\n",
            "Hodgeman County\n",
            "Lincoln County\n",
            "Ness County\n",
            "Norton County\n",
            "Rawlins County\n",
            "Rush County\n",
            "Russell County\n",
            "Sherman County\n",
            "Smith County\n",
            "Carlisle County\n",
            "Fulton County\n",
            "Garrard County\n",
            "Owen County\n",
            "Owsley County\n",
            "Trigg County\n",
            "Wolfe County\n",
            "Dukes County\n",
            "Nantucket County\n",
            "Alcona County\n",
            "Cook County\n",
            "Lake of the Woods County\n",
            "Issaquena County\n",
            "Miller County\n",
            "Blaine County\n",
            "Carter County\n",
            "Chouteau County\n",
            "Daniels County\n",
            "Fallon County\n",
            "Fergus County\n",
            "Garfield County\n",
            "Judith Basin County\n",
            "McCone County\n",
            "Mineral County\n",
            "Petroleum County\n",
            "Pondera County\n",
            "Prairie County\n",
            "Sanders County\n",
            "Sheridan County\n",
            "Sweet Grass County\n",
            "Teton County\n",
            "Wheatland County\n",
            "Wibaux County\n",
            "Arthur County\n",
            "Banner County\n",
            "Blaine County\n",
            "Boyd County\n",
            "Brown County\n",
            "Fillmore County\n",
            "Garden County\n",
            "Greeley County\n",
            "Hayes County\n",
            "Hooker County\n",
            "Keith County\n",
            "Logan County\n",
            "Loup County\n",
            "McPherson County\n",
            "Morrill County\n",
            "Pawnee County\n",
            "Sheridan County\n",
            "Sherman County\n",
            "Sioux County\n",
            "Esmeralda County\n",
            "Eureka County\n",
            "Lander County\n",
            "Mineral County\n",
            "Storey County\n",
            "De Baca County\n",
            "Harding County\n",
            "Mora County\n",
            "Quay County\n",
            "Sierra County\n",
            "Union County\n",
            "Bronx County\n",
            "Kings County\n",
            "Queens County\n",
            "Richmond County\n",
            "Camden County\n",
            "Hyde County\n",
            "Swain County\n",
            "Tyrrell County\n",
            "Billings County\n",
            "Bottineau County\n",
            "Cavalier County\n",
            "Griggs County\n",
            "Hettinger County\n",
            "Kidder County\n",
            "LaMoure County\n",
            "Ransom County\n",
            "Towner County\n",
            "Wells County\n",
            "Alfalfa County\n",
            "Blaine County\n",
            "Cimarron County\n",
            "Ellis County\n",
            "Harmon County\n",
            "Pushmataha County\n",
            "Roger Mills County\n",
            "Gilliam County\n",
            "Harney County\n",
            "Wheeler County\n",
            "Buffalo County\n",
            "Butte County\n",
            "Campbell County\n",
            "Day County\n",
            "Douglas County\n",
            "Haakon County\n",
            "Hand County\n",
            "Harding County\n",
            "Jackson County\n",
            "Jones County\n",
            "McPherson County\n",
            "Mellette County\n",
            "Moody County\n",
            "Potter County\n",
            "Sully County\n",
            "Hancock County\n",
            "Pickett County\n",
            "Van Buren County\n",
            "Armstrong County\n",
            "Baylor County\n",
            "Borden County\n",
            "Briscoe County\n",
            "Brooks County\n",
            "Carson County\n",
            "Childress County\n",
            "Cochran County\n",
            "Coleman County\n",
            "Cottle County\n",
            "Crockett County\n",
            "Culberson County\n",
            "Duval County\n",
            "Edwards County\n",
            "Fisher County\n",
            "Foard County\n",
            "Glasscock County\n",
            "Hall County\n",
            "Hardeman County\n",
            "Irion County\n",
            "Jeff Davis County\n",
            "Jim Hogg County\n",
            "Kenedy County\n",
            "Kent County\n",
            "King County\n",
            "Kinney County\n",
            "Lipscomb County\n",
            "Loving County\n",
            "McMullen County\n",
            "Marion County\n",
            "Menard County\n",
            "Mills County\n",
            "Motley County\n",
            "Parmer County\n",
            "Presidio County\n",
            "Reagan County\n",
            "Real County\n",
            "Red River County\n",
            "Roberts County\n",
            "San Saba County\n",
            "Schleicher County\n",
            "Somervell County\n",
            "Sterling County\n",
            "Sutton County\n",
            "Terrell County\n",
            "Upton County\n",
            "Zavala County\n",
            "Daggett County\n",
            "Juab County\n",
            "Rich County\n",
            "Bath County\n",
            "Essex County\n",
            "Falls Church city\n",
            "Martinsville city\n",
            "Norton city\n",
            "Garfield County\n",
            "Calhoun County\n",
            "Webster County\n",
            "Platte County\n"
          ],
          "name": "stdout"
        }
      ]
    },
    {
      "cell_type": "code",
      "metadata": {
        "id": "_2-ZwDFaPub2",
        "colab_type": "code",
        "colab": {
          "base_uri": "https://localhost:8080/",
          "height": 71
        },
        "outputId": "a16a29c7-23b6-4b81-976f-88596ba9e226"
      },
      "source": [
        "index = [0,134,141,145,148,158,169,207,208,210,314,315,316,317,367,408,492]\n",
        "population = []\n",
        "for i in index:\n",
        "    population.append(int(missing.iloc[i].POPULATION))\n",
        "cases = [22,1,16,1,8,6,2,3,33,103,0,0,0,0,30,10,0]\n",
        "rate = []\n",
        "for i in range(17):\n",
        "    rate.append(cases[i]*100/population[i])\n",
        "print(rate)\n",
        "count = 0\n",
        "for i in rate:\n",
        "     if i>median:\n",
        "        count +=1\n",
        "print(count)\n",
        "\n",
        "\n"
      ],
      "execution_count": 46,
      "outputs": [
        {
          "output_type": "stream",
          "text": [
            "[0.08304707259069118, 0.0036780932764454905, 0.04332990304934193, 0.0036854131348124123, 0.02542345949725109, 0.02449079554267521, 0.005286250462546916, 0.008449038217816205, 0.08653921800015735, 0.35923549107142855, 0.0, 0.0, 0.0, 0.0, 0.04738737600303279, 0.030648522741203874, 0.0]\n",
            "5\n"
          ],
          "name": "stdout"
        }
      ]
    }
  ]
}